{
 "cells": [
  {
   "cell_type": "code",
   "execution_count": null,
   "metadata": {
    "vscode": {
     "languageId": "r"
    }
   },
   "outputs": [],
   "source": [
    "library(Seurat)\n",
    "library(tidyverse)\n",
    "source(\"./GSEA.R\")\n",
    "library(patchwork)\n",
    "set.seed(123)"
   ]
  },
  {
   "cell_type": "code",
   "execution_count": null,
   "metadata": {
    "vscode": {
     "languageId": "r"
    }
   },
   "outputs": [],
   "source": [
    "path <- \"./projects/kidney_mouse_ntn/\"\n",
    "path_DEA <- paste0(path, \"DEA_ST/\")\n",
    "GSEA_path <- paste0(path, \"GSEA/\")\n",
    "tissue <- \"Glomeruli/\""
   ]
  },
  {
   "cell_type": "code",
   "execution_count": null,
   "metadata": {
    "vscode": {
     "languageId": "r"
    }
   },
   "outputs": [],
   "source": [
    "options(repr.plot.width=25, repr.plot.height=18)\n",
    "\n",
    "comparison <- \"Enalapril_vs_vehicle/\"\n",
    "\n",
    "df <- read.csv(paste0(path_DEA, comparison, tissue, \"wilcox.csv\")) %>% \n",
    "    # filter(p_val_adj < 0.05) %>% #done but just in case\n",
    "    # filter(pct.1 > 0.25) %>% \n",
    "    dplyr::select(gene, avg_logFC)\n",
    "\n",
    "dbs <- c(\"KEGG\", \"Reactome\", \"GO\", \"Hallmarks\")\n",
    "results <- lapply(dbs, function(x){\n",
    "    result <- performGSEA(df, x, \"mouse\", maxGSSize = 150, minGSSize = 20)\n",
    "})\n",
    "names(results) <- dbs\n",
    "results <- Filter(Negate(is.null), results)\n",
    "\n",
    "final_path <- paste0(GSEA_path, comparison, tissue)\n",
    "if (!file.exists(final_path)) {\n",
    "  dir.create(final_path, recursive = TRUE)\n",
    "}\n",
    "writexl::write_xlsx(results, paste0(final_path, \"GSEA.xlsx\"))\n",
    "\n",
    "plot_results <- lapply(1:length(results), function(x){\n",
    "    plotting_gsea(results[[x]], names(results)[x])\n",
    "})\n",
    "patchwork::wrap_plots(plot_results, ncol=length(plot_results)) + plot_annotation(paste0(comparison, \"-\",  tissue)) + plot_layout(axis_titles = \"collect\") "
   ]
  },
  {
   "cell_type": "code",
   "execution_count": null,
   "metadata": {
    "vscode": {
     "languageId": "r"
    }
   },
   "outputs": [],
   "source": [
    "options(repr.plot.width=25, repr.plot.height=18)\n",
    "\n",
    "comparison <- \"Sema_vs_vehicle/\"\n",
    "\n",
    "df <- read.csv(paste0(path_DEA, comparison, tissue, \"wilcox.csv\")) %>% \n",
    "    # filter(p_val_adj < 0.05) %>% #done but just in case\n",
    "    # filter(pct.1 > 0.25) %>% \n",
    "    dplyr::select(gene, avg_logFC)\n",
    "\n",
    "dbs <- c(\"KEGG\", \"Reactome\", \"GO\", \"Hallmarks\")\n",
    "results <- lapply(dbs, function(x){\n",
    "    result <- performGSEA(df, x, \"mouse\", maxGSSize = 150, minGSSize = 20)\n",
    "})\n",
    "names(results) <- dbs\n",
    "results <- Filter(Negate(is.null), results)\n",
    "\n",
    "final_path <- paste0(GSEA_path, comparison, tissue)\n",
    "\n",
    "if (!file.exists(final_path)) {\n",
    "  dir.create(final_path, recursive = TRUE)\n",
    "}\n",
    "writexl::write_xlsx(results, paste0(final_path, \"GSEA.xlsx\"))\n",
    "\n",
    "plot_results <- lapply(1:length(results), function(x){\n",
    "    plotting_gsea(results[[x]], names(results)[x])\n",
    "})\n",
    "patchwork::wrap_plots(plot_results, ncol=length(plot_results)) + plot_annotation(paste0(comparison, \"-\",  tissue)) + plot_layout(axis_titles = \"collect\") "
   ]
  },
  {
   "cell_type": "code",
   "execution_count": null,
   "metadata": {
    "vscode": {
     "languageId": "r"
    }
   },
   "outputs": [],
   "source": [
    "options(repr.plot.width=25, repr.plot.height=18)\n",
    "\n",
    "comparison <- \"vehicle_vs_Healthy/\"\n",
    "\n",
    "df <- read.csv(paste0(path_DEA, comparison, tissue, \"wilcox.csv\")) %>% \n",
    "    # filter(p_val_adj < 0.05) %>% #done but just in case\n",
    "    # filter(pct.1 > 0.25) %>% \n",
    "    dplyr::select(gene, avg_logFC)\n",
    "\n",
    "dbs <- c(\"KEGG\", \"Reactome\", \"GO\", \"Hallmarks\")\n",
    "results <- lapply(dbs, function(x){\n",
    "    result <- performGSEA(df, x, \"mouse\", maxGSSize = 150, minGSSize = 20)\n",
    "})\n",
    "names(results) <- dbs\n",
    "results <- Filter(Negate(is.null), results)\n",
    "\n",
    "final_path <- paste0(GSEA_path, comparison, tissue)\n",
    "\n",
    "if (!file.exists(final_path)) {\n",
    "  dir.create(final_path, recursive = TRUE)\n",
    "}\n",
    "writexl::write_xlsx(results, paste0(final_path, \"GSEA.xlsx\"))\n",
    "\n",
    "plot_results <- lapply(1:length(results), function(x){\n",
    "    plotting_gsea(results[[x]], names(results)[x])\n",
    "})\n",
    "patchwork::wrap_plots(plot_results, ncol=length(plot_results)) + plot_annotation(paste0(comparison, \"-\",  tissue)) + plot_layout(axis_titles = \"collect\") "
   ]
  },
  {
   "cell_type": "markdown",
   "metadata": {
    "vscode": {
     "languageId": "r"
    }
   },
   "source": [
    "# SMC"
   ]
  },
  {
   "cell_type": "code",
   "execution_count": null,
   "metadata": {
    "vscode": {
     "languageId": "r"
    }
   },
   "outputs": [],
   "source": [
    "path <- \"./rojects/kidney_mouse_ntn/\"\n",
    "path_DEA <- paste0(path, \"DEA_ST/\")\n",
    "GSEA_path <- paste0(path, \"GSEA/\")\n",
    "tissue <- \"SMC/\""
   ]
  },
  {
   "cell_type": "code",
   "execution_count": null,
   "metadata": {
    "vscode": {
     "languageId": "r"
    }
   },
   "outputs": [],
   "source": [
    "options(repr.plot.width=25, repr.plot.height=18)\n",
    "\n",
    "comparison <- \"Enalapril_vs_vehicle/\"\n",
    "\n",
    "df <- read.csv(paste0(path_DEA, comparison, tissue, \"wilcox.csv\")) %>% \n",
    "    dplyr::select(gene, avg_logFC)\n",
    "\n",
    "dbs <- c(\"KEGG\", \"Reactome\", \"GO\", \"Hallmarks\")\n",
    "results <- lapply(dbs, function(x){\n",
    "    result <- performGSEA(df, x, \"mouse\", maxGSSize = 150, minGSSize = 20)\n",
    "})\n",
    "names(results) <- dbs\n",
    "results <- Filter(Negate(is.null), results)\n",
    "\n",
    "final_path <- paste0(GSEA_path, comparison, tissue)\n",
    "if (!file.exists(final_path)) {\n",
    "  dir.create(final_path, recursive = TRUE)\n",
    "}\n",
    "writexl::write_xlsx(results, paste0(final_path, \"GSEA.xlsx\"))\n",
    "\n",
    "plot_results <- lapply(1:length(results), function(x){\n",
    "    plotting_gsea(results[[x]], names(results)[x])\n",
    "})\n",
    "patchwork::wrap_plots(plot_results, ncol=length(plot_results)) + plot_annotation(paste0(comparison, \"-\",  tissue)) + plot_layout(axis_titles = \"collect\") "
   ]
  },
  {
   "cell_type": "code",
   "execution_count": null,
   "metadata": {
    "vscode": {
     "languageId": "r"
    }
   },
   "outputs": [],
   "source": [
    "options(repr.plot.width=25, repr.plot.height=18)\n",
    "\n",
    "comparison <- \"Sema_vs_vehicle/\"\n",
    "\n",
    "df <- read.csv(paste0(path_DEA, comparison, tissue, \"wilcox.csv\")) %>% \n",
    "    dplyr::select(gene, avg_logFC)\n",
    "\n",
    "dbs <- c(\"KEGG\", \"Reactome\", \"GO\", \"Hallmarks\")\n",
    "results <- lapply(dbs, function(x){\n",
    "    result <- performGSEA(df, x, \"mouse\", maxGSSize = 150, minGSSize = 20)\n",
    "})\n",
    "names(results) <- dbs\n",
    "results <- Filter(Negate(is.null), results)\n",
    "\n",
    "final_path <- paste0(GSEA_path, comparison, tissue)\n",
    "if (!file.exists(final_path)) {\n",
    "  dir.create(final_path, recursive = TRUE)\n",
    "}\n",
    "writexl::write_xlsx(results, paste0(final_path, \"GSEA.xlsx\"))\n",
    "\n",
    "plot_results <- lapply(1:length(results), function(x){\n",
    "    plotting_gsea(results[[x]], names(results)[x])\n",
    "})\n",
    "patchwork::wrap_plots(plot_results, ncol=length(plot_results)) + plot_annotation(paste0(comparison, \"-\",  tissue)) + plot_layout(axis_titles = \"collect\") "
   ]
  },
  {
   "cell_type": "code",
   "execution_count": null,
   "metadata": {
    "vscode": {
     "languageId": "r"
    }
   },
   "outputs": [],
   "source": [
    "options(repr.plot.width=25, repr.plot.height=18)\n",
    "\n",
    "comparison <- \"vehicle_vs_Healthy/\"\n",
    "\n",
    "df <- read.csv(paste0(path_DEA, comparison, tissue, \"wilcox.csv\")) %>% \n",
    "    dplyr::select(gene, avg_logFC)\n",
    "\n",
    "dbs <- c(\"KEGG\", \"Reactome\", \"GO\", \"Hallmarks\")\n",
    "results <- lapply(dbs, function(x){\n",
    "    result <- performGSEA(df, x, \"mouse\", maxGSSize = 150, minGSSize = 20)\n",
    "})\n",
    "names(results) <- dbs\n",
    "results <- Filter(Negate(is.null), results)\n",
    "\n",
    "final_path <- paste0(GSEA_path, comparison, tissue)\n",
    "\n",
    "if (!file.exists(final_path)) {\n",
    "  dir.create(final_path, recursive = TRUE)\n",
    "}\n",
    "writexl::write_xlsx(results, paste0(final_path, \"GSEA.xlsx\"))\n",
    "\n",
    "plot_results <- lapply(1:length(results), function(x){\n",
    "    plotting_gsea(results[[x]], names(results)[x])\n",
    "})\n",
    "patchwork::wrap_plots(plot_results, ncol=length(plot_results)) + plot_annotation(paste0(comparison, \"-\",  tissue)) + plot_layout(axis_titles = \"collect\") "
   ]
  },
  {
   "cell_type": "markdown",
   "metadata": {
    "vscode": {
     "languageId": "r"
    }
   },
   "source": [
    "# PT"
   ]
  },
  {
   "cell_type": "code",
   "execution_count": null,
   "metadata": {
    "vscode": {
     "languageId": "r"
    }
   },
   "outputs": [],
   "source": [
    "path <- \"./projects/kidney_mouse_ntn/\"\n",
    "path_DEA <- paste0(path, \"DEA_ST/\")\n",
    "GSEA_path <- paste0(path, \"GSEA/\")\n",
    "tissue <- \"/PT/\""
   ]
  },
  {
   "cell_type": "code",
   "execution_count": null,
   "metadata": {
    "vscode": {
     "languageId": "r"
    }
   },
   "outputs": [],
   "source": [
    "options(repr.plot.width=25, repr.plot.height=18)\n",
    "\n",
    "comparison <- \"Enalapril_vs_vehicle/\"\n",
    "\n",
    "comparisons <- c(\"vehicle_vs_Healthy\", \"Sema_vs_vehicle\", \"Enalapril_vs_vehicle\")\n",
    "\n",
    "for (comparison in comparisons){\n",
    "    print(comparison)\n",
    "    df <- read.csv(paste0(path_DEA, comparison, tissue, \"wilcox.csv\")) %>% \n",
    "        dplyr::select(gene, avg_logFC)\n",
    "\n",
    "    dbs <- c(\"KEGG\", \"Reactome\", \"GO\", \"Hallmarks\")\n",
    "    results <- lapply(dbs, function(x){\n",
    "        result <- performGSEA(df, x, \"mouse\", maxGSSize = 150, minGSSize = 20)\n",
    "    })\n",
    "    names(results) <- dbs\n",
    "    results <- Filter(Negate(is.null), results)\n",
    "\n",
    "    final_path <- paste0(GSEA_path, comparison, tissue)\n",
    "    if (!file.exists(final_path)) {\n",
    "    dir.create(final_path, recursive = TRUE)\n",
    "    }\n",
    "    writexl::write_xlsx(results, paste0(final_path, \"GSEA.xlsx\"))\n",
    "}"
   ]
  },
  {
   "cell_type": "code",
   "execution_count": null,
   "metadata": {
    "vscode": {
     "languageId": "r"
    }
   },
   "outputs": [],
   "source": []
  }
 ],
 "metadata": {
  "kernelspec": {
   "display_name": "R4.3_visium_notebooks",
   "language": "R",
   "name": "r4.3_visium_notebooks"
  },
  "language_info": {
   "codemirror_mode": "r",
   "file_extension": ".r",
   "mimetype": "text/x-r-source",
   "name": "R",
   "pygments_lexer": "r",
   "version": "4.3.2"
  }
 },
 "nbformat": 4,
 "nbformat_minor": 2
}
