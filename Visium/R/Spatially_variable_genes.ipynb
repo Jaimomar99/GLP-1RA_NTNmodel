{
 "cells": [
  {
   "cell_type": "markdown",
   "metadata": {},
   "source": [
    "Spatial variable genes can be find in two different ways:\n",
    "\n",
    "- Biased: Define spatial region by annotating (a.k.a glomeruli, cortex) and you compare region vs all of them.\n",
    "- unbiased: looking for a pattern in the tissue, moransi algorithm"
   ]
  },
  {
   "cell_type": "code",
   "execution_count": null,
   "metadata": {
    "vscode": {
     "languageId": "r"
    }
   },
   "outputs": [],
   "source": [
    "#input dataset information by developers\n",
    "plot_dir <- paste0(\".//projects/kidney_mouse_ntn/reports/\")\n",
    "project_dir <- \".//Data/Spatial/visium/kidney/mouse_NTN/\"\n",
    "processed_dir <- \".//Data/Spatial/visium/kidney/mouse_NTN/processed/ultimate_processed/\"\n",
    "pipeline_dir <- \".//software/project_repos/visium_pipeline\"\n",
    "manifest_path <- paste0(project_dir, \"/manifest.csv\")\n",
    "group_variable <- \"diagnosis\""
   ]
  },
  {
   "cell_type": "code",
   "execution_count": 2,
   "metadata": {
    "vscode": {
     "languageId": "r"
    }
   },
   "outputs": [],
   "source": [
    "suppressWarnings(suppressMessages(library(Seurat)))\n",
    "suppressWarnings(suppressMessages(library(ggplot2)))\n",
    "suppressWarnings(suppressMessages(library(patchwork)))\n",
    "suppressWarnings(suppressMessages(library(dplyr)))\n",
    "suppressWarnings(suppressMessages(library(gridExtra)))\n",
    "suppressWarnings(suppressMessages(library(RColorBrewer)))\n",
    "suppressWarnings(suppressMessages(library(stringr)))\n",
    "suppressWarnings(suppressMessages(library(scales)))\n",
    "suppressWarnings(suppressMessages(library(tidyverse)))\n",
    "suppressWarnings(suppressMessages(library(cowplot)))\n",
    "suppressMessages(source(paste0(pipeline_dir, \"/R/utils.R\")))"
   ]
  },
  {
   "cell_type": "code",
   "execution_count": 3,
   "metadata": {
    "vscode": {
     "languageId": "r"
    }
   },
   "outputs": [],
   "source": [
    "#define colors for plotting\n",
    "theme_set(theme_bw(base_size = 18) +\n",
    "          theme(panel.grid.major = element_blank(), panel.grid.minor = element_blank()))\n",
    "SpatialColors <- colorRampPalette(colors = rev(x = brewer.pal(n = 11, name = \"Spectral\")))\n",
    "\n",
    "palette_length <- 100\n",
    "my_palette <- SpatialColors(n = palette_length)\n",
    "color_palette2 <- colorRampPalette(colors = rev(x = brewer.pal(n = 11, name = \"Spectral\")))"
   ]
  },
  {
   "cell_type": "code",
   "execution_count": 4,
   "metadata": {
    "vscode": {
     "languageId": "r"
    }
   },
   "outputs": [
    {
     "data": {
      "text/html": [
       "<table class=\"dataframe\">\n",
       "<caption>A data.frame: 3 × 10</caption>\n",
       "<thead>\n",
       "\t<tr><th></th><th scope=col>alias_id</th><th scope=col>seq_sample_id</th><th scope=col>fw_sample_id</th><th scope=col>visium_slide</th><th scope=col>visium_capture_area</th><th scope=col>dual_index</th><th scope=col>eln</th><th scope=col>date_processed_lab</th><th scope=col>batch_group</th><th scope=col>diagnosis</th></tr>\n",
       "\t<tr><th></th><th scope=col>&lt;int&gt;</th><th scope=col>&lt;int&gt;</th><th scope=col>&lt;int&gt;</th><th scope=col>&lt;chr&gt;</th><th scope=col>&lt;chr&gt;</th><th scope=col>&lt;chr&gt;</th><th scope=col>&lt;chr&gt;</th><th scope=col>&lt;chr&gt;</th><th scope=col>&lt;int&gt;</th><th scope=col>&lt;chr&gt;</th></tr>\n",
       "</thead>\n",
       "<tbody>\n",
       "\t<tr><th scope=row>1</th><td>1</td><td>1</td><td>9628</td><td>V12M09-090</td><td>A</td><td>1A</td><td>21316-916</td><td>4+5 july 2022</td><td>1</td><td>vehicle  </td></tr>\n",
       "\t<tr><th scope=row>2</th><td>2</td><td>2</td><td>9631</td><td>V12M09-090</td><td>B</td><td>1B</td><td>21316-916</td><td>4+5 july 2022</td><td>1</td><td>Sema     </td></tr>\n",
       "\t<tr><th scope=row>3</th><td>3</td><td>3</td><td>9675</td><td>V12M09-090</td><td>C</td><td>1C</td><td>21316-916</td><td>4+5 july 2022</td><td>1</td><td>Enalapril</td></tr>\n",
       "</tbody>\n",
       "</table>\n"
      ],
      "text/latex": [
       "A data.frame: 3 × 10\n",
       "\\begin{tabular}{r|llllllllll}\n",
       "  & alias\\_id & seq\\_sample\\_id & fw\\_sample\\_id & visium\\_slide & visium\\_capture\\_area & dual\\_index & eln & date\\_processed\\_lab & batch\\_group & diagnosis\\\\\n",
       "  & <int> & <int> & <int> & <chr> & <chr> & <chr> & <chr> & <chr> & <int> & <chr>\\\\\n",
       "\\hline\n",
       "\t1 & 1 & 1 & 9628 & V12M09-090 & A & 1A & 21316-916 & 4+5 july 2022 & 1 & vehicle  \\\\\n",
       "\t2 & 2 & 2 & 9631 & V12M09-090 & B & 1B & 21316-916 & 4+5 july 2022 & 1 & Sema     \\\\\n",
       "\t3 & 3 & 3 & 9675 & V12M09-090 & C & 1C & 21316-916 & 4+5 july 2022 & 1 & Enalapril\\\\\n",
       "\\end{tabular}\n"
      ],
      "text/markdown": [
       "\n",
       "A data.frame: 3 × 10\n",
       "\n",
       "| <!--/--> | alias_id &lt;int&gt; | seq_sample_id &lt;int&gt; | fw_sample_id &lt;int&gt; | visium_slide &lt;chr&gt; | visium_capture_area &lt;chr&gt; | dual_index &lt;chr&gt; | eln &lt;chr&gt; | date_processed_lab &lt;chr&gt; | batch_group &lt;int&gt; | diagnosis &lt;chr&gt; |\n",
       "|---|---|---|---|---|---|---|---|---|---|---|\n",
       "| 1 | 1 | 1 | 9628 | V12M09-090 | A | 1A | 21316-916 | 4+5 july 2022 | 1 | vehicle   |\n",
       "| 2 | 2 | 2 | 9631 | V12M09-090 | B | 1B | 21316-916 | 4+5 july 2022 | 1 | Sema      |\n",
       "| 3 | 3 | 3 | 9675 | V12M09-090 | C | 1C | 21316-916 | 4+5 july 2022 | 1 | Enalapril |\n",
       "\n"
      ],
      "text/plain": [
       "  alias_id seq_sample_id fw_sample_id visium_slide visium_capture_area\n",
       "1 1        1             9628         V12M09-090   A                  \n",
       "2 2        2             9631         V12M09-090   B                  \n",
       "3 3        3             9675         V12M09-090   C                  \n",
       "  dual_index eln       date_processed_lab batch_group diagnosis\n",
       "1 1A         21316-916 4+5 july 2022      1           vehicle  \n",
       "2 1B         21316-916 4+5 july 2022      1           Sema     \n",
       "3 1C         21316-916 4+5 july 2022      1           Enalapril"
      ]
     },
     "metadata": {},
     "output_type": "display_data"
    }
   ],
   "source": [
    "#reading manifest\n",
    "sample_metadata <- read.csv(manifest_path)\n",
    "head(sample_metadata, 3)"
   ]
  },
  {
   "cell_type": "code",
   "execution_count": 8,
   "metadata": {
    "vscode": {
     "languageId": "r"
    }
   },
   "outputs": [
    {
     "data": {
      "text/html": [
       "<style>\n",
       ".list-inline {list-style: none; margin:0; padding: 0}\n",
       ".list-inline>li {display: inline-block}\n",
       ".list-inline>li:not(:last-child)::after {content: \"\\00b7\"; padding: 0 .5ex}\n",
       "</style>\n",
       "<ol class=list-inline><li>'Glomeruli'</li><li>'Cortex'</li><li>'ISOM'</li><li>'Inner_Medulla'</li><li>'OSOM'</li><li>'Renal Pelvis'</li></ol>\n"
      ],
      "text/latex": [
       "\\begin{enumerate*}\n",
       "\\item 'Glomeruli'\n",
       "\\item 'Cortex'\n",
       "\\item 'ISOM'\n",
       "\\item 'Inner\\_Medulla'\n",
       "\\item 'OSOM'\n",
       "\\item 'Renal Pelvis'\n",
       "\\end{enumerate*}\n"
      ],
      "text/markdown": [
       "1. 'Glomeruli'\n",
       "2. 'Cortex'\n",
       "3. 'ISOM'\n",
       "4. 'Inner_Medulla'\n",
       "5. 'OSOM'\n",
       "6. 'Renal Pelvis'\n",
       "\n",
       "\n"
      ],
      "text/plain": [
       "[1] \"Glomeruli\"     \"Cortex\"        \"ISOM\"          \"Inner_Medulla\"\n",
       "[5] \"OSOM\"          \"Renal Pelvis\" "
      ]
     },
     "metadata": {},
     "output_type": "display_data"
    }
   ],
   "source": [
    "# # #reading by sample\n",
    "# sample_list <- sample_metadata$alias_id\n",
    "# object_list <- vector('list', length(sample_list))\n",
    "# for (i in 1:length(sample_list)) {\n",
    "#     sample_name <- paste0(\"sample\", sample_list[[i]])\n",
    "#     curr_obj <- readRDS(file = file.path(processed_dir, \"by_sample/rds/\", paste0(sample_list[[i]], \"_annotated_2.rds\")))\n",
    "    \n",
    "#     if (length(curr_obj@assays$Spatial@scale.data) == 0){\n",
    "#         # normalize and scale data so we can plot and color code\n",
    "#         # curr_obj <- NormalizeData(curr_obj, assay = \"Spatial\")\n",
    "#         # curr_obj <- ScaleData(curr_obj, assay = \"Spatial\", verbose = F)\n",
    "#         message(\"Norm & scaling sample\")\n",
    "#     }\n",
    "\n",
    "#     object_list[[i]] <- curr_obj\n",
    "# }\n",
    "# print(\"---\")\n",
    "# message(\"By sample objects read, first object looks like:\")\n",
    "# object_list[[1]]\n",
    "\n",
    "#reading integrated\n",
    "# integrated_obj <- readRDS(file.path(processed_dir, \"integrated/rds/integrated_annotated_2.rds\"))\n",
    "integrated_obj$Region2 %>% unique()"
   ]
  },
  {
   "cell_type": "code",
   "execution_count": 16,
   "metadata": {
    "vscode": {
     "languageId": "r"
    }
   },
   "outputs": [
    {
     "name": "stderr",
     "output_type": "stream",
     "text": [
      "Computing Moran's I\n",
      "\n"
     ]
    },
    {
     "data": {
      "text/plain": [
       "An object of class Seurat \n",
       "26128 features across 2747 samples within 2 assays \n",
       "Active assay: SCT (13064 features, 3000 variable features)\n",
       " 3 layers present: counts, data, scale.data\n",
       " 1 other assay present: Spatial\n",
       " 2 dimensional reductions calculated: pca, umap\n",
       " 1 image present: sample1"
      ]
     },
     "metadata": {},
     "output_type": "display_data"
    }
   ],
   "source": [
    "# df <- FindSpatiallyVariableFeatures(object_list[[1]], assay=\"SCT\", selection.method = \"moransi\", verbose = T, features = VariableFeatures(object_list[[1]])[1:1000])\n",
    "#  SpatiallyVariableFeatures(object_list[[1]])\n",
    "# head(SpatiallyVariableFeatures(df, selection.method = \"moransi\"),3)"
   ]
  },
  {
   "cell_type": "code",
   "execution_count": null,
   "metadata": {
    "vscode": {
     "languageId": "r"
    }
   },
   "outputs": [
    {
     "name": "stderr",
     "output_type": "stream",
     "text": [
      "Calculating cluster Glomeruli\n",
      "\n",
      "Calculating cluster Cortex\n",
      "\n",
      "Calculating cluster ISOM\n",
      "\n",
      "Calculating cluster Inner_Medulla\n",
      "\n",
      "Calculating cluster OSOM\n",
      "\n",
      "Calculating cluster Renal Pelvis\n",
      "\n"
     ]
    }
   ],
   "source": [
    "#Comparing each region vs the rest to see if there are genes that are differentially expressed\n",
    "Idents(integrated_obj) <- \"Region2\"\n",
    "df_all <- FindAllMarkers(integrated_obj, assay = \"Spatial\", only.pos = F, min.pct=0, logfc.threshold = 0, test.use = \"wilcox\", verbose = T)\n",
    "df <- split(df_all,df_all$cluster)\n",
    "\n",
    "path <- \".//kidney_mouse_ntn/characterize_regions/\"\n",
    "#for each df in df, save the csv\n",
    "for (i in 1:length(df)){\n",
    "    write.csv(df[[i]], file = paste0(path,names(df)[i], \".csv\"))\n",
    "\n",
    "    #filtering \n",
    "    df[[i]] <- df[[i]] %>% \n",
    "        filter(p_val_adj < 0.05) %>%\n",
    "        filter(pct.1 > 0.25)\n",
    "    \n",
    "    write.csv(df[[i]], file = paste0(path,names(df)[i], \"_pval_pct1_filtered.csv\"))\n",
    "}\n",
    "\n",
    "write.csv(df_all, file = paste0(path,\"all_regions.csv\"))"
   ]
  },
  {
   "cell_type": "code",
   "execution_count": 18,
   "metadata": {
    "vscode": {
     "languageId": "r"
    }
   },
   "outputs": [],
   "source": [
    "library(patchwork)"
   ]
  },
  {
   "cell_type": "code",
   "execution_count": 19,
   "metadata": {
    "vscode": {
     "languageId": "r"
    }
   },
   "outputs": [],
   "source": [
    "modify_vlnplot<- function(obj, \n",
    "                          feature, \n",
    "                          pt.size = 0, \n",
    "                          plot.margin = unit(c(-0.75, 0, -0.75, 0), \"cm\"),\n",
    "                          ...) {\n",
    "  p<- VlnPlot(obj, features = feature, pt.size = pt.size, ... )  + \n",
    "    xlab(\"\") + ylab(feature) + ggtitle(\"\") + \n",
    "    theme(legend.position = \"none\", \n",
    "          axis.text.x = element_blank(), \n",
    "          axis.ticks.x = element_blank(), \n",
    "          axis.title.y = element_text(size = rel(1), angle = 0), \n",
    "          axis.text.y = element_text(size = rel(1)), \n",
    "          plot.margin = plot.margin ) \n",
    "  return(p)\n",
    "}\n",
    "\n",
    "## extract the max value of the y axis\n",
    "extract_max<- function(p){\n",
    "  ymax<- max(ggplot_build(p)$layout$panel_scales_y[[1]]$range$range)\n",
    "  return(ceiling(ymax))\n",
    "}\n",
    "\n",
    "\n",
    "## main function\n",
    "StackedVlnPlot<- function(obj, features,\n",
    "                          pt.size = 0, \n",
    "                          plot.margin = unit(c(-0.75, 0, -0.75, 0), \"cm\"),\n",
    "                          ...) {\n",
    "  \n",
    "  plot_list<- purrr::map(features, function(x) modify_vlnplot(obj = obj,feature = x, ...))\n",
    "  \n",
    "  # Add back x-axis title to bottom plot. patchwork is going to support this?\n",
    "  plot_list[[length(plot_list)]]<- plot_list[[length(plot_list)]] +\n",
    "    theme(axis.text.x=element_text(), axis.ticks.x = element_line())\n",
    "  \n",
    "  # change the y-axis tick to only max value \n",
    "  ymaxs<- purrr::map_dbl(plot_list, extract_max)\n",
    "  plot_list<- purrr::map2(plot_list, ymaxs, function(x,y) x + \n",
    "                            scale_y_continuous(breaks = c(y)) + \n",
    "                            expand_limits(y = y))\n",
    "\n",
    "  p<- patchwork::wrap_plots(plotlist = plot_list, ncol = 1)\n",
    "  return(p)\n",
    "}\n"
   ]
  },
  {
   "cell_type": "code",
   "execution_count": 43,
   "metadata": {
    "vscode": {
     "languageId": "r"
    }
   },
   "outputs": [
    {
     "data": {
      "text/html": [
       "<table class=\"dataframe\">\n",
       "<caption>A grouped_df: 18 × 7</caption>\n",
       "<thead>\n",
       "\t<tr><th scope=col>p_val</th><th scope=col>avg_log2FC</th><th scope=col>pct.1</th><th scope=col>pct.2</th><th scope=col>p_val_adj</th><th scope=col>cluster</th><th scope=col>gene</th></tr>\n",
       "\t<tr><th scope=col>&lt;dbl&gt;</th><th scope=col>&lt;dbl&gt;</th><th scope=col>&lt;dbl&gt;</th><th scope=col>&lt;dbl&gt;</th><th scope=col>&lt;dbl&gt;</th><th scope=col>&lt;fct&gt;</th><th scope=col>&lt;chr&gt;</th></tr>\n",
       "</thead>\n",
       "<tbody>\n",
       "\t<tr><td>0</td><td>3.832970</td><td>0.741</td><td>0.206</td><td>0</td><td>Glomeruli    </td><td>Nphs1   </td></tr>\n",
       "\t<tr><td>0</td><td>3.796277</td><td>0.853</td><td>0.379</td><td>0</td><td>Glomeruli    </td><td>Nphs2   </td></tr>\n",
       "\t<tr><td>0</td><td>3.881561</td><td>0.543</td><td>0.087</td><td>0</td><td>Glomeruli    </td><td>Myom2   </td></tr>\n",
       "\t<tr><td>0</td><td>1.996380</td><td>0.698</td><td>0.381</td><td>0</td><td>Cortex       </td><td>Slc5a12 </td></tr>\n",
       "\t<tr><td>0</td><td>1.952499</td><td>0.506</td><td>0.196</td><td>0</td><td>Cortex       </td><td>Slc16a14</td></tr>\n",
       "\t<tr><td>0</td><td>1.982949</td><td>0.700</td><td>0.444</td><td>0</td><td>Cortex       </td><td>Pvalb   </td></tr>\n",
       "\t<tr><td>0</td><td>4.038267</td><td>0.780</td><td>0.299</td><td>0</td><td>ISOM         </td><td>Nccrp1  </td></tr>\n",
       "\t<tr><td>0</td><td>3.835847</td><td>0.605</td><td>0.155</td><td>0</td><td>ISOM         </td><td>Fst     </td></tr>\n",
       "\t<tr><td>0</td><td>4.269354</td><td>0.336</td><td>0.031</td><td>0</td><td>ISOM         </td><td>Rph3a   </td></tr>\n",
       "\t<tr><td>0</td><td>5.650665</td><td>0.683</td><td>0.064</td><td>0</td><td>Inner_Medulla</td><td>Aldh1a3 </td></tr>\n",
       "\t<tr><td>0</td><td>5.923148</td><td>0.572</td><td>0.030</td><td>0</td><td>Inner_Medulla</td><td>Cldn11  </td></tr>\n",
       "\t<tr><td>0</td><td>5.617532</td><td>0.387</td><td>0.013</td><td>0</td><td>Inner_Medulla</td><td>Aqp5    </td></tr>\n",
       "\t<tr><td>0</td><td>3.937163</td><td>0.685</td><td>0.254</td><td>0</td><td>OSOM         </td><td>Igf2    </td></tr>\n",
       "\t<tr><td>0</td><td>3.837838</td><td>0.919</td><td>0.523</td><td>0</td><td>OSOM         </td><td>Napsa   </td></tr>\n",
       "\t<tr><td>0</td><td>3.441863</td><td>0.400</td><td>0.052</td><td>0</td><td>OSOM         </td><td>Tmprss6 </td></tr>\n",
       "\t<tr><td>0</td><td>7.438575</td><td>0.888</td><td>0.043</td><td>0</td><td>Renal Pelvis </td><td>Cidec   </td></tr>\n",
       "\t<tr><td>0</td><td>7.384690</td><td>0.753</td><td>0.041</td><td>0</td><td>Renal Pelvis </td><td>Cidea   </td></tr>\n",
       "\t<tr><td>0</td><td>7.524346</td><td>0.637</td><td>0.032</td><td>0</td><td>Renal Pelvis </td><td>Ucp1    </td></tr>\n",
       "</tbody>\n",
       "</table>\n"
      ],
      "text/latex": [
       "A grouped\\_df: 18 × 7\n",
       "\\begin{tabular}{lllllll}\n",
       " p\\_val & avg\\_log2FC & pct.1 & pct.2 & p\\_val\\_adj & cluster & gene\\\\\n",
       " <dbl> & <dbl> & <dbl> & <dbl> & <dbl> & <fct> & <chr>\\\\\n",
       "\\hline\n",
       "\t 0 & 3.832970 & 0.741 & 0.206 & 0 & Glomeruli     & Nphs1   \\\\\n",
       "\t 0 & 3.796277 & 0.853 & 0.379 & 0 & Glomeruli     & Nphs2   \\\\\n",
       "\t 0 & 3.881561 & 0.543 & 0.087 & 0 & Glomeruli     & Myom2   \\\\\n",
       "\t 0 & 1.996380 & 0.698 & 0.381 & 0 & Cortex        & Slc5a12 \\\\\n",
       "\t 0 & 1.952499 & 0.506 & 0.196 & 0 & Cortex        & Slc16a14\\\\\n",
       "\t 0 & 1.982949 & 0.700 & 0.444 & 0 & Cortex        & Pvalb   \\\\\n",
       "\t 0 & 4.038267 & 0.780 & 0.299 & 0 & ISOM          & Nccrp1  \\\\\n",
       "\t 0 & 3.835847 & 0.605 & 0.155 & 0 & ISOM          & Fst     \\\\\n",
       "\t 0 & 4.269354 & 0.336 & 0.031 & 0 & ISOM          & Rph3a   \\\\\n",
       "\t 0 & 5.650665 & 0.683 & 0.064 & 0 & Inner\\_Medulla & Aldh1a3 \\\\\n",
       "\t 0 & 5.923148 & 0.572 & 0.030 & 0 & Inner\\_Medulla & Cldn11  \\\\\n",
       "\t 0 & 5.617532 & 0.387 & 0.013 & 0 & Inner\\_Medulla & Aqp5    \\\\\n",
       "\t 0 & 3.937163 & 0.685 & 0.254 & 0 & OSOM          & Igf2    \\\\\n",
       "\t 0 & 3.837838 & 0.919 & 0.523 & 0 & OSOM          & Napsa   \\\\\n",
       "\t 0 & 3.441863 & 0.400 & 0.052 & 0 & OSOM          & Tmprss6 \\\\\n",
       "\t 0 & 7.438575 & 0.888 & 0.043 & 0 & Renal Pelvis  & Cidec   \\\\\n",
       "\t 0 & 7.384690 & 0.753 & 0.041 & 0 & Renal Pelvis  & Cidea   \\\\\n",
       "\t 0 & 7.524346 & 0.637 & 0.032 & 0 & Renal Pelvis  & Ucp1    \\\\\n",
       "\\end{tabular}\n"
      ],
      "text/markdown": [
       "\n",
       "A grouped_df: 18 × 7\n",
       "\n",
       "| p_val &lt;dbl&gt; | avg_log2FC &lt;dbl&gt; | pct.1 &lt;dbl&gt; | pct.2 &lt;dbl&gt; | p_val_adj &lt;dbl&gt; | cluster &lt;fct&gt; | gene &lt;chr&gt; |\n",
       "|---|---|---|---|---|---|---|\n",
       "| 0 | 3.832970 | 0.741 | 0.206 | 0 | Glomeruli     | Nphs1    |\n",
       "| 0 | 3.796277 | 0.853 | 0.379 | 0 | Glomeruli     | Nphs2    |\n",
       "| 0 | 3.881561 | 0.543 | 0.087 | 0 | Glomeruli     | Myom2    |\n",
       "| 0 | 1.996380 | 0.698 | 0.381 | 0 | Cortex        | Slc5a12  |\n",
       "| 0 | 1.952499 | 0.506 | 0.196 | 0 | Cortex        | Slc16a14 |\n",
       "| 0 | 1.982949 | 0.700 | 0.444 | 0 | Cortex        | Pvalb    |\n",
       "| 0 | 4.038267 | 0.780 | 0.299 | 0 | ISOM          | Nccrp1   |\n",
       "| 0 | 3.835847 | 0.605 | 0.155 | 0 | ISOM          | Fst      |\n",
       "| 0 | 4.269354 | 0.336 | 0.031 | 0 | ISOM          | Rph3a    |\n",
       "| 0 | 5.650665 | 0.683 | 0.064 | 0 | Inner_Medulla | Aldh1a3  |\n",
       "| 0 | 5.923148 | 0.572 | 0.030 | 0 | Inner_Medulla | Cldn11   |\n",
       "| 0 | 5.617532 | 0.387 | 0.013 | 0 | Inner_Medulla | Aqp5     |\n",
       "| 0 | 3.937163 | 0.685 | 0.254 | 0 | OSOM          | Igf2     |\n",
       "| 0 | 3.837838 | 0.919 | 0.523 | 0 | OSOM          | Napsa    |\n",
       "| 0 | 3.441863 | 0.400 | 0.052 | 0 | OSOM          | Tmprss6  |\n",
       "| 0 | 7.438575 | 0.888 | 0.043 | 0 | Renal Pelvis  | Cidec    |\n",
       "| 0 | 7.384690 | 0.753 | 0.041 | 0 | Renal Pelvis  | Cidea    |\n",
       "| 0 | 7.524346 | 0.637 | 0.032 | 0 | Renal Pelvis  | Ucp1     |\n",
       "\n"
      ],
      "text/plain": [
       "   p_val avg_log2FC pct.1 pct.2 p_val_adj cluster       gene    \n",
       "1  0     3.832970   0.741 0.206 0         Glomeruli     Nphs1   \n",
       "2  0     3.796277   0.853 0.379 0         Glomeruli     Nphs2   \n",
       "3  0     3.881561   0.543 0.087 0         Glomeruli     Myom2   \n",
       "4  0     1.996380   0.698 0.381 0         Cortex        Slc5a12 \n",
       "5  0     1.952499   0.506 0.196 0         Cortex        Slc16a14\n",
       "6  0     1.982949   0.700 0.444 0         Cortex        Pvalb   \n",
       "7  0     4.038267   0.780 0.299 0         ISOM          Nccrp1  \n",
       "8  0     3.835847   0.605 0.155 0         ISOM          Fst     \n",
       "9  0     4.269354   0.336 0.031 0         ISOM          Rph3a   \n",
       "10 0     5.650665   0.683 0.064 0         Inner_Medulla Aldh1a3 \n",
       "11 0     5.923148   0.572 0.030 0         Inner_Medulla Cldn11  \n",
       "12 0     5.617532   0.387 0.013 0         Inner_Medulla Aqp5    \n",
       "13 0     3.937163   0.685 0.254 0         OSOM          Igf2    \n",
       "14 0     3.837838   0.919 0.523 0         OSOM          Napsa   \n",
       "15 0     3.441863   0.400 0.052 0         OSOM          Tmprss6 \n",
       "16 0     7.438575   0.888 0.043 0         Renal Pelvis  Cidec   \n",
       "17 0     7.384690   0.753 0.041 0         Renal Pelvis  Cidea   \n",
       "18 0     7.524346   0.637 0.032 0         Renal Pelvis  Ucp1    "
      ]
     },
     "metadata": {},
     "output_type": "display_data"
    }
   ],
   "source": [
    "top_n <- df_all %>% \n",
    "    filter(pct.1 > 0.25) %>%\n",
    "    filter(p_val_adj < 0.05) %>%\n",
    "    #take top 10 per each cluster \n",
    "    group_by(cluster) %>%\n",
    "    top_n(3, avg_log2FC) %>%\n",
    "top_n"
   ]
  },
  {
   "cell_type": "code",
   "execution_count": null,
   "metadata": {
    "vscode": {
     "languageId": "r"
    }
   },
   "outputs": [],
   "source": [
    "# features<- c(\"Ren1\", \"Ang\", \"Ace\", \"Ace2\", \"Agtr1a\", \"Mas1\")\n",
    "features <- c(\"Nphs1\", \"Nphs2\", \"Slc5a12\", \"Pvalb\", \"Nccrp1\", \"Fst\", \"Aldh1a3\",\"Cldn11\", \"Igf2\", \"Napsa\", \"Cidec\", \"Cidea\")\n",
    "# p <- StackedVlnPlot(obj = integrated_obj, features = pull(top_n,gene))\n",
    "p <- StackedVlnPlot(obj = integrated_obj, features = features)\n",
    "\n",
    "ggsave(paste0(path, \"vlnplot.png\"), p, width = 10, height = 22, dpi = 300)"
   ]
  },
  {
   "cell_type": "code",
   "execution_count": null,
   "metadata": {
    "vscode": {
     "languageId": "r"
    }
   },
   "outputs": [],
   "source": []
  }
 ],
 "metadata": {
  "kernelspec": {
   "display_name": "R4.3_visium_notebooks",
   "language": "R",
   "name": "r4.3_visium_notebooks"
  },
  "language_info": {
   "codemirror_mode": "r",
   "file_extension": ".r",
   "mimetype": "text/x-r-source",
   "name": "R",
   "pygments_lexer": "r",
   "version": "4.3.2"
  }
 },
 "nbformat": 4,
 "nbformat_minor": 2
}
