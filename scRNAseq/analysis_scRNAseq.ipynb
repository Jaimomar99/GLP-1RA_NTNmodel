{
 "cells": [
  {
   "cell_type": "markdown",
   "id": "14e0f5b3-c059-4bf7-8cf1-c60ad0558aec",
   "metadata": {},
   "source": [
    "# scRNASeq analysis"
   ]
  },
  {
   "cell_type": "markdown",
   "id": "b5be03b3-7eb6-4197-9891-70a800b4fe65",
   "metadata": {},
   "source": [
    "# Loading data"
   ]
  },
  {
   "cell_type": "code",
   "execution_count": null,
   "id": "ba5b25d0-efed-4838-b62c-a962bbb66651",
   "metadata": {
    "vscode": {
     "languageId": "r"
    }
   },
   "outputs": [],
   "source": [
    "write_plots <- TRUE\n",
    "plot_dir <- \"\" "
   ]
  },
  {
   "cell_type": "code",
   "execution_count": 15,
   "id": "6914a756-3991-4e35-b6cf-1b7ce1b0479d",
   "metadata": {
    "vscode": {
     "languageId": "r"
    }
   },
   "outputs": [],
   "source": [
    "theme_set(theme_bw(base_size = 18) +\n",
    "          theme(panel.grid.major = element_blank(), panel.grid.minor = element_blank()))"
   ]
  },
  {
   "cell_type": "code",
   "execution_count": 3,
   "id": "204c3526-8424-4857-bc17-d9ec34c2b1fe",
   "metadata": {
    "scrolled": true,
    "vscode": {
     "languageId": "r"
    }
   },
   "outputs": [],
   "source": [
    "suppressWarnings(suppressMessages(library(Seurat)))\n",
    "suppressWarnings(suppressMessages(library(tidyverse)))\n",
    "suppressWarnings(suppressMessages(library(cowplot)))\n",
    "suppressWarnings(suppressMessages(library(patchwork)))\n",
    "suppressWarnings(suppressMessages(library(readxl)))\n",
    "suppressWarnings(suppressMessages(library(cluster)))\n",
    "# suppressWarnings(suppressMessages(library(harmony)))"
   ]
  },
  {
   "cell_type": "code",
   "execution_count": null,
   "id": "8e1f19b4-b892-417b-946a-9d9e5e1b9550",
   "metadata": {
    "vscode": {
     "languageId": "r"
    }
   },
   "outputs": [],
   "source": [
    "manifest <- read.csv(\"Data/scRNA/kidney/mouse_NTN/manifest_snRNAseq.csv\")"
   ]
  },
  {
   "cell_type": "code",
   "execution_count": null,
   "id": "c1052fad-20c1-4ccc-89f4-29e520037938",
   "metadata": {
    "vscode": {
     "languageId": "r"
    }
   },
   "outputs": [],
   "source": [
    "normalized_seurat <- readRDS(\"/Data/scRNA/kidney/mouse_NTN/processed/annotated_v2.rds\")"
   ]
  },
  {
   "cell_type": "code",
   "execution_count": null,
   "id": "11f56f09-4749-4599-88ca-810f57bf09e4",
   "metadata": {
    "vscode": {
     "languageId": "r"
    }
   },
   "outputs": [],
   "source": [
    "df <- manifest %>% select(alias_id, fw_sample_id, Treatment) %>% arrange(alias_id)\n",
    "df\n",
    "if (write_plots) {\n",
    "    write.csv(df, paste0(plot_dir,\"/dfs/scRNAseq_samples_Treatment.csv\"), row.names = F)\n",
    "}"
   ]
  },
  {
   "cell_type": "markdown",
   "id": "dba02e94-c59d-4167-b20c-037cf25588e2",
   "metadata": {},
   "source": [
    "# QC"
   ]
  },
  {
   "cell_type": "code",
   "execution_count": 40,
   "id": "62b7370d-cdd9-40c3-b4fc-5ae75142b6b1",
   "metadata": {
    "vscode": {
     "languageId": "r"
    }
   },
   "outputs": [],
   "source": [
    "normalized_seurat$Treatment <- factor(normalized_seurat$Treatment, levels = c(\"vehicle\", \"Sema\", \"Enalapril\", \"Healthy\"))"
   ]
  },
  {
   "cell_type": "code",
   "execution_count": null,
   "id": "16a5abac-69a4-45b8-b3cd-81b659d7d182",
   "metadata": {
    "vscode": {
     "languageId": "r"
    }
   },
   "outputs": [],
   "source": [
    "options(repr.plot.width = 10, repr.plot.height =12)\n",
    "p_counts <- ggplot(normalized_seurat@meta.data, aes(x = as.factor(alias_id), y = nCount_RNA, fill = as.factor(Treatment))) +\n",
    "    geom_violin() +\n",
    "    geom_boxplot(width = 0.1) +\n",
    "    theme(legend.position = \"none\",\n",
    "         axis.title.x=element_blank(),\n",
    "         axis.text.x=element_blank(),\n",
    "            axis.ticks.x=element_blank()) +\n",
    "    ylab('Number Counts')\n",
    "\n",
    "p_genes <- ggplot(normalized_seurat@meta.data, aes(x = as.factor(alias_id), y = nFeature_RNA, fill = as.factor(Treatment))) +\n",
    "    geom_violin() +\n",
    "    geom_boxplot(width = 0.1) +\n",
    "    theme(\n",
    "        legend.position = \"none\",\n",
    "         axis.title.x=element_blank(),\n",
    "        axis.text.x=element_blank(),\n",
    "        axis.ticks.x=element_blank()) +\n",
    "    ylab('Number Genes') +\n",
    "    guides(fill=guide_legend(title=\"Treatment\"))\n",
    "\n",
    "p_mito <- ggplot(normalized_seurat@meta.data, aes(x = as.factor(alias_id), y = percent_mito, fill = as.factor(Treatment))) +\n",
    "    geom_violin() +\n",
    "    geom_boxplot(width = 0.1) +\n",
    "    theme(\n",
    "        legend.position = \"bottom\",\n",
    "         axis.title.x=element_blank(),\n",
    "        axis.text.x=element_blank(),\n",
    "        axis.ticks.x=element_blank()) +\n",
    "    ylab('Mitochondrial %') +\n",
    "    xlab(\"Sample id\") +\n",
    "    guides(fill=guide_legend(title=\"Treatment\"))\n",
    "\n",
    "p <- wrap_plots(p_counts, p_genes, p_mito, ncol = 1)\n",
    "\n",
    "plot(p)\n",
    "\n",
    "if(write_plots){\n",
    "    ggsave(p, filename = file.path(plot_dir, \"/plots/QC_scRNAseq/Count_features_mito_violin.png\"), width = 10, height = 12)\n",
    "}"
   ]
  },
  {
   "cell_type": "code",
   "execution_count": null,
   "id": "b8838811-dab1-4c16-aa1d-b451f090bde8",
   "metadata": {
    "vscode": {
     "languageId": "r"
    }
   },
   "outputs": [],
   "source": [
    "options(repr.plot.width = 16, repr.plot.height = 7)\n",
    "\n",
    "plot_list <- lapply(c(\"alias_id\", \"Treatment\"), FUN = function(f) {\n",
    "    DimPlot(normalized_seurat, reduction = \"pca\", group.by = f, pt.size = 0.5) + theme(legend.position = \"top\")\n",
    "})\n",
    "\n",
    "p <- wrap_plots(plot_list, ncol = 2)\n",
    "\n",
    "plot(p)\n",
    "\n",
    "if (write_plots) {\n",
    "    ggsave(p, filename = file.path(plot_dir, \"/plots/QC_scRNAseq/integrated_batch_pca.png\"), width = 16, height = 7)\n",
    "}"
   ]
  },
  {
   "cell_type": "code",
   "execution_count": null,
   "id": "2c84653e-7552-4a2b-9116-118ca970cdcc",
   "metadata": {
    "vscode": {
     "languageId": "r"
    }
   },
   "outputs": [],
   "source": [
    "options(repr.plot.width = 12, repr.plot.height = 7)\n",
    "\n",
    "plot_list <- lapply(c(\"alias_id\", \"Treatment\"), FUN = function(f) {\n",
    "    DimPlot(normalized_seurat, reduction = \"harmony\", group.by = f, pt.size = 0.5) + theme(legend.position = \"top\")\n",
    "})\n",
    "\n",
    "p <- wrap_plots(plot_list, ncol = 2)\n",
    "\n",
    "plot(p)\n",
    "\n",
    "if (write_plots) {\n",
    "    ggsave(p, filename = file.path(plot_dir, \"/plots/QC_scRNAseq/integrated_batch_harmony.png\"), width = 12, height = 7)\n",
    "}"
   ]
  },
  {
   "cell_type": "code",
   "execution_count": null,
   "id": "64a0596f-96eb-44dc-85be-a6ab788ec307",
   "metadata": {
    "vscode": {
     "languageId": "r"
    }
   },
   "outputs": [],
   "source": [
    "options(repr.plot.width = 12, repr.plot.height = 7)\n",
    "\n",
    "plot_list <- lapply(c(\"alias_id\", \"Treatment\"), FUN = function(f) {\n",
    "    DimPlot(normalized_seurat, reduction = \"umap\", group.by = f, pt.size = 0.5) + theme(legend.position = \"top\")\n",
    "})\n",
    "\n",
    "p <- wrap_plots(plot_list, ncol = 2)\n",
    "\n",
    "plot(p)\n",
    "\n",
    "if (write_plots) {\n",
    "    ggsave(p, filename = file.path(plot_dir, \"/plots/QC_scRNAseq/integrated_batch_umap.png\"), width = 12, height = 7)\n",
    "}"
   ]
  },
  {
   "cell_type": "code",
   "execution_count": null,
   "id": "689ac4b1-b692-41b9-8efd-e2dbb15b466a",
   "metadata": {
    "vscode": {
     "languageId": "r"
    }
   },
   "outputs": [],
   "source": [
    "# after analysis\n",
    "normalized_seurat <- readRDS(\"./Data/scRNA/kidney/mouse_NTN/processed/normalized_v2.rds\")"
   ]
  },
  {
   "cell_type": "markdown",
   "id": "539c5a31-51be-4c78-88a4-b850f6b6ad52",
   "metadata": {},
   "source": [
    "## Well-known Marker genes "
   ]
  },
  {
   "cell_type": "markdown",
   "id": "6a7572cd-ddd1-4dee-9c19-ee6d31bc03ac",
   "metadata": {},
   "source": [
    "https://www.nature.com/articles/s41467-021-22266-1"
   ]
  },
  {
   "cell_type": "code",
   "execution_count": null,
   "id": "db422f12-464b-44d4-b040-f02d9b44a84b",
   "metadata": {
    "vscode": {
     "languageId": "r"
    }
   },
   "outputs": [],
   "source": [
    "# Specify the path to your Excel file\n",
    "file_path <- \"/annotation/Miao.Z_Nature.2021/41467_2021_22266_MOESM5_ESM.xlsx\"\n",
    "\n",
    "# Read the specific sheet and skip the first row\n",
    "markers <- read_excel(file_path, sheet = \"Marker genes for annotation\", skip=1, col_names = TRUE)\n",
    "markers_long <- pivot_longer(markers, everything(), names_to = \"cell_type\", values_to=\"marker\")"
   ]
  },
  {
   "cell_type": "code",
   "execution_count": 91,
   "id": "6c375842-30f7-42fa-87fa-77c99f77a9a1",
   "metadata": {
    "vscode": {
     "languageId": "r"
    }
   },
   "outputs": [],
   "source": [
    "all_markers <- unique(unlist(markers))\n",
    "\n",
    "all_markers <- all_markers[all_markers %in% rownames(normalized_seurat)]\n",
    "\n",
    "p <- DotPlot(normalized_seurat, features = all_markers)\n",
    "df <- p$data\n",
    "\n",
    "df$cell_type <-  markers_long[match(df$features.plot, markers_long$marker), \"cell_type\"] %>% pull()\n",
    "df <- df %>% arrange(cell_type)"
   ]
  },
  {
   "cell_type": "code",
   "execution_count": 92,
   "id": "7a18d579-4085-4d66-ad18-0211f407b681",
   "metadata": {
    "vscode": {
     "languageId": "r"
    }
   },
   "outputs": [
    {
     "name": "stderr",
     "output_type": "stream",
     "text": [
      "Warning message in get_plot_component(plot, \"guide-box\"):\n",
      "“Multiple components found; returning the first one. To return all, use `return_all = TRUE`.”\n"
     ]
    }
   ],
   "source": [
    "dotplot <- df %>%  \n",
    "  mutate(`% Expressed` = pct.exp) %>% \n",
    "    mutate(`Avg expressed` = avg.exp.scaled\t) %>%\n",
    "#remove expression expression of 0 or less 20%\n",
    "  filter(`Avg expressed` > 0, `% Expressed` > 15) %>% \n",
    "  ggplot(aes(x=features.plot, y = id, color = `Avg expressed`, size = `% Expressed`)) + \n",
    "  geom_point() +\n",
    "  cowplot::theme_cowplot() + \n",
    "  theme(axis.line  = element_blank()) +\n",
    "  theme(axis.text.x = element_text(angle = 90, vjust = 0.5, hjust=1, size=11)) +\n",
    "  theme(axis.ticks = element_blank()) +\n",
    "  theme(panel.grid.major = element_line(color = \"grey\",\n",
    "                                        size = 0.3,\n",
    "                                        linetype = 2)) +\n",
    "labs(x = \"features\", y = \"clusters\") +\n",
    "scale_y_discrete(position = \"right\") \n",
    "\n",
    "celltypes <- df %>%\n",
    "    mutate(`Cell Type` = cell_type) %>%\n",
    "    ggplot(aes(x = features.plot, y = 1, fill = `Cell Type`)) + \n",
    "  geom_tile() +\n",
    "    theme_nothing()\n",
    "\n",
    "legend <- plot_grid(get_legend(celltypes + theme(legend.position=\"bottom\")))"
   ]
  },
  {
   "cell_type": "code",
   "execution_count": null,
   "id": "7ec140d3-0534-41dd-a628-9ca43e02c0c6",
   "metadata": {
    "vscode": {
     "languageId": "r"
    }
   },
   "outputs": [],
   "source": [
    "options(repr.plot.width = 16, repr.plot.height = 10, res=1200)\n",
    "final_plot <-  celltypes + \n",
    "  plot_spacer() +\n",
    "  dotplot + \n",
    "   plot_spacer() +\n",
    "  legend + \n",
    "  plot_layout(ncol = 1, heights = c(0.1, -0.1, 4, -0.1, 1))\n",
    "\n",
    "final_plot"
   ]
  },
  {
   "cell_type": "markdown",
   "id": "4fab6fda-f9af-4cb5-9f85-40a0a2dcaa92",
   "metadata": {},
   "source": [
    "## Find Markers"
   ]
  },
  {
   "cell_type": "code",
   "execution_count": null,
   "id": "2b377045-046b-4bcb-9e52-9323e520f8e6",
   "metadata": {
    "scrolled": true,
    "vscode": {
     "languageId": "r"
    }
   },
   "outputs": [],
   "source": [
    "# Find all markers for each cluster in the Seurat object\n",
    "# find_markers <- FindAllMarkers(normalized_seurat, \n",
    "#                           logfc.threshold = 0.25,\n",
    "#                           test.use = \"wilcox\",\n",
    "#                           assay = \"SCT\",\n",
    "#                           min.pct = 0.25,\n",
    "#                           slot = \"data\") \n",
    "\n",
    "# # Filter and sort the find_markers\n",
    "# find_markers <- find_markers %>%  \n",
    "#     mutate(cluster = as.integer(as.character(cluster)), na.rm=TRUE) %>% \n",
    "#     select(cluster, gene, avg_log2FC, p_val, p_val_adj, pct.1, pct.2) %>%\n",
    "#     dplyr::filter(p_val_adj < 0.05) %>%\n",
    "#     dplyr::filter(abs(avg_log2FC) > 0.25) %>%\n",
    "#     arrange(cluster, desc(avg_log2FC)) %>% \n",
    "#     mutate_if(is.numeric,round, 3) %>%\n",
    "#     group_by(cluster) \n",
    "\n",
    "\n",
    "# write.csv((find_markers %>% top_n(n=5, wt=avg_log2FC)), \"./mouse_NTN/reports/markers_clustering_top5.csv\", row.names = FALSE)\n",
    "# write.csv((find_markers %>% top_n(n=100, wt=avg_log2FC)), \"./mouse_NTN/reports/markers_clustering_top100.csv\", row.names = FALSE)"
   ]
  },
  {
   "cell_type": "code",
   "execution_count": null,
   "id": "106539b6-874a-4d1a-8fc1-77bb9ee0e529",
   "metadata": {
    "vscode": {
     "languageId": "r"
    }
   },
   "outputs": [],
   "source": [
    "file_path <- \"/mouse_NTN/reports/ncells.xlsx\"\n",
    "\n",
    "df <-  normalized_seurat@meta.data %>% group_by(alias_id, Treatment) %>% count()\n",
    "dff <- normalized_seurat@meta.data %>% group_by(clustering_harmony) %>% count()\n",
    "df2 <- normalized_seurat@meta.data %>% group_by(clustering_harmony, Treatment) %>% count()\n",
    "df3 <- normalized_seurat@meta.data %>% group_by(clustering_harmony, alias_id) %>% count()"
   ]
  },
  {
   "cell_type": "code",
   "execution_count": null,
   "id": "c3a7d774-7a8c-44f0-98c3-20746a33f176",
   "metadata": {
    "vscode": {
     "languageId": "r"
    }
   },
   "outputs": [],
   "source": [
    "normalized_seurat <- RenameIdents(object = normalized_seurat, \n",
    "                                 \"0\" = \"Early_PT-PCT\",\n",
    "                                 \"1\" = \"LOH\",\n",
    "                                 \"2\" = \"PTS3\",\n",
    "                                 \"3\" = \"Collecting_duct, IC\",\n",
    "                                 \"4\" = \"Macrophagues\",\n",
    "                                 \"5\" = \"EC\",\n",
    "                                 \"6\" = \"DCT, Collecting_duct\",\n",
    "                                 \"7\" = \"PC\",\n",
    "                                 \"8\" = \"FIB\",\n",
    "                                 \"9\" = \"TDLH\",\n",
    "                                 \"10\" = \"Adipocytes\",\n",
    "                                 \"11\" = \"POD\",\n",
    "                                 \"12\" = \"Urothelium\")\n",
    "\n",
    "normalized_seurat$first_annotation <- Idents(normalized_seurat)\n",
    "\n",
    "DimPlot(normalized_seurat, label=T, group.by = \"first_annotation\", label.size = 6, repel=T) + NoLegend()  + theme(axis.title.x=element_blank())"
   ]
  },
  {
   "cell_type": "markdown",
   "id": "68e29c2f-d3c4-4004-bfd8-229d20243348",
   "metadata": {},
   "source": [
    "## Some reflexions"
   ]
  },
  {
   "cell_type": "code",
   "execution_count": null,
   "id": "e23c14e5-e1a2-4312-b3b4-0278635fa259",
   "metadata": {
    "vscode": {
     "languageId": "r"
    }
   },
   "outputs": [],
   "source": [
    "options(repr.plot.width = 26, repr.plot.height = 10, res=1200)\n",
    "p <- DimPlot(normalized_seurat, label=T, group.by = \"first_annotation\", label.size = 6, repel=T) + NoLegend()  + theme(axis.title.x=element_blank())\n",
    "p1 <- DimPlot(normalized_seurat, label=T, group.by = \"SCT_snn_res.0.2\", label.size = 6, repel=T) + NoLegend() + theme(axis.title.x=element_blank(), axis.text =  element_blank()) + theme(axis.title.y = element_blank())\n",
    "p2 <- DimPlot(normalized_seurat, label=T, group.by = \"SCT_snn_res.0.3\", label.size = 6, repel=T) + NoLegend() + theme(axis.title.x=element_blank(), axis.text = element_blank()) + theme(axis.title.y = element_blank())\n",
    "p3 <- DimPlot(normalized_seurat, label=T, group.by = \"SCT_snn_res.0.4\", label.size = 6, repel=T) + NoLegend() + theme(axis.title.x=element_blank(), axis.text = element_blank()) + theme(axis.title.y = element_blank())\n",
    "wrap_plots(p,p1,p2, p3, ncol=4) & plot_layout(guides=\"collect\")"
   ]
  },
  {
   "cell_type": "code",
   "execution_count": 154,
   "id": "c5223ec1-62c9-4241-8f66-cf3272d58f83",
   "metadata": {
    "vscode": {
     "languageId": "r"
    }
   },
   "outputs": [],
   "source": [
    "normalized_seurat$second_annotation <- normalized_seurat$first_annotation %>% as.character()"
   ]
  },
  {
   "cell_type": "markdown",
   "id": "7f7337e9-71c4-498c-8730-421432840337",
   "metadata": {},
   "source": [
    "### Dividing PT"
   ]
  },
  {
   "cell_type": "code",
   "execution_count": null,
   "id": "e2b5747b-00dc-4e79-b8bd-bb39da770567",
   "metadata": {
    "vscode": {
     "languageId": "r"
    }
   },
   "outputs": [],
   "source": [
    "PTS1 <- c(\"Slc5a12\", \"Slc13a3\", \"Slc22a6\", \"Prodh2\", \"Slc5a2\", \"Slc22a8\")\n",
    "PTS2 <- c(\"Slc5a12\", \"Slc13a3\", \"Slc22a6\", \"Slc34a1\", \"Slc22a7\")\n",
    "PTS3 <- c(\"Slc22a7\", \"Mogat1\", \"Slc5a11\", \"Slc7a13\", \"Slc5a8\", \"Abcc3\", \"Satb2\")\n",
    "\n",
    "p1 <- DotPlot(normalized_seurat, features= PTS1, group.by= \"SCT_snn_res.0.3\") + ggtitle(\"PTS1\") + NoLegend()\n",
    "p2 <- DotPlot(normalized_seurat, features= PTS2, group.by= \"SCT_snn_res.0.3\") + ggtitle(\"PTS2\") + NoLegend()\n",
    "p3 <- DotPlot(normalized_seurat, features= PTS3, group.by= \"SCT_snn_res.0.3\") + ggtitle(\"PTS3\") + NoLegend()\n",
    "wrap_plots(p1,p2,p3)"
   ]
  },
  {
   "cell_type": "markdown",
   "id": "ddec877e-c011-43e6-aada-fb3838270044",
   "metadata": {},
   "source": [
    "In res0.3, clearly 0 is PTS3, let's go further in genes that are not common"
   ]
  },
  {
   "cell_type": "code",
   "execution_count": null,
   "id": "db7eb951-8404-47c3-a90e-eafb64bba22c",
   "metadata": {
    "vscode": {
     "languageId": "r"
    }
   },
   "outputs": [],
   "source": [
    "PTS1 <- c(\"Prodh2\", \"Slc5a2\", \"Slc22a8\")\n",
    "PTS2 <- c(\"Slc34a1\")\n",
    "\n",
    "p1 <- DotPlot(normalized_seurat, features= PTS1, group.by= \"SCT_snn_res.0.3\") + ggtitle(\"PTS1\") + NoLegend()\n",
    "p2 <- DotPlot(normalized_seurat, features= PTS2, group.by= \"SCT_snn_res.0.3\") + ggtitle(\"PTS2\") + NoLegend()\n",
    "wrap_plots(p1,p2)"
   ]
  },
  {
   "cell_type": "markdown",
   "id": "0f70ad65-ce98-445f-a264-5ec704ca3d8b",
   "metadata": {},
   "source": [
    "Slc5a2 is the key for distinguish between S1 and S2"
   ]
  },
  {
   "cell_type": "code",
   "execution_count": 157,
   "id": "9e2e38b6-728d-408a-8199-aeea1fdf2a23",
   "metadata": {
    "vscode": {
     "languageId": "r"
    }
   },
   "outputs": [],
   "source": [
    "PTS1s <- normalized_seurat@meta.data %>% filter(SCT_snn_res.0.3 ==\"3\") %>% rownames()\n",
    "normalized_seurat@meta.data[PTS1s,\"second_annotation\"] <- \"PTS1\"\n",
    "\n",
    "PTS2s <- normalized_seurat@meta.data %>% filter(SCT_snn_res.0.3 ==\"1\") %>% rownames()\n",
    "normalized_seurat@meta.data[PTS2s,\"second_annotation\"] <- \"PTS2\""
   ]
  },
  {
   "cell_type": "code",
   "execution_count": 158,
   "id": "26bcf188-5b51-40d1-bfa0-69d36a34fb63",
   "metadata": {
    "scrolled": true,
    "vscode": {
     "languageId": "r"
    }
   },
   "outputs": [],
   "source": [
    "#remove few cells didn't stay cluster\n",
    "outliers <- subset(x = normalized_seurat,subset = second_annotation == \"Early_PT-PCT\")\n",
    "# p1 <- DotPlot(outliers, features= PTS1, group.by= \"second_annotation\") + ggtitle(\"PTS1\") + NoLegend()\n",
    "# p2 <- DotPlot(outliers, features= PTS2, group.by= \"second_annotation\") + ggtitle(\"PTS2\") + NoLegend()\n",
    "# wrap_plots(p1,p2)"
   ]
  },
  {
   "cell_type": "code",
   "execution_count": 159,
   "id": "7dab029a-57e7-4e97-909c-9574335364c9",
   "metadata": {
    "vscode": {
     "languageId": "r"
    }
   },
   "outputs": [],
   "source": [
    "outliers <- normalized_seurat@meta.data %>% filter(second_annotation == \"Early_PT-PCT\") %>% rownames()\n",
    "normalized_seurat@meta.data[outliers,\"second_annotation\"] <- \"PTS1\""
   ]
  },
  {
   "cell_type": "code",
   "execution_count": null,
   "id": "2647c5f9-a4c2-44ae-9bb7-f6fb584ef052",
   "metadata": {
    "vscode": {
     "languageId": "r"
    }
   },
   "outputs": [],
   "source": [
    "p <- DimPlot(normalized_seurat, label=T, group.by = \"first_annotation\", label.size = 6, repel=T) + NoLegend()  + theme(axis.title.x=element_blank())\n",
    "p1 <- DimPlot(normalized_seurat, label=T, group.by = \"SCT_snn_res.0.2\", label.size = 6, repel=T) + NoLegend() + theme(axis.title.x=element_blank(), axis.text =  element_blank()) + theme(axis.title.y = element_blank())\n",
    "p2 <- DimPlot(normalized_seurat, label=T, group.by = \"SCT_snn_res.0.3\", label.size = 6, repel=T) + NoLegend() + theme(axis.title.x=element_blank(), axis.text = element_blank()) + theme(axis.title.y = element_blank())\n",
    "p3 <- DimPlot(normalized_seurat, label=T, group.by = \"second_annotation\", label.size = 6, repel=T) + theme(axis.title.x=element_blank())\n",
    "wrap_plots(p,p1,p2, p3, ncol=4) & plot_layout(guides=\"collect\")"
   ]
  },
  {
   "cell_type": "markdown",
   "id": "c58e4d37-53f9-41e2-a9b9-38cbf17f8580",
   "metadata": {},
   "source": [
    "### Macrophagues and B cells"
   ]
  },
  {
   "cell_type": "code",
   "execution_count": null,
   "id": "e26ee41b-c103-453c-983f-61aeee359de7",
   "metadata": {
    "vscode": {
     "languageId": "r"
    }
   },
   "outputs": [],
   "source": [
    "macrophagues <- markers_long %>% filter(cell_type== \"Macro\" & marker != \"NA\") %>% pull(marker)\n",
    "Bcells <- c(\"Igha\", \"Igkc\")\n",
    "p <- DotPlot(normalized_seurat, features= macrophagues, group.by= \"SCT_snn_res.0.3\") + ggtitle(\"Macrophagues\") + NoLegend()\n",
    "p2 <- DotPlot(normalized_seurat, features= Bcells, group.by= \"SCT_snn_res.0.3\") + ggtitle(\"B cells\") + NoLegend()\n",
    "wrap_plots(p,p2)"
   ]
  },
  {
   "cell_type": "code",
   "execution_count": 162,
   "id": "a51991e2-579b-48b8-9e43-3efcd53ff8a6",
   "metadata": {
    "vscode": {
     "languageId": "r"
    }
   },
   "outputs": [],
   "source": [
    "Bcells_ids <- normalized_seurat@meta.data %>% filter(SCT_snn_res.0.3 ==\"10\") %>% rownames()\n",
    "normalized_seurat@meta.data[Bcells_ids,\"second_annotation\"] <- \"Bcell\""
   ]
  },
  {
   "cell_type": "code",
   "execution_count": null,
   "id": "f24b0864-afcc-4591-a3c2-e6265b5094b6",
   "metadata": {
    "vscode": {
     "languageId": "r"
    }
   },
   "outputs": [],
   "source": [
    "p <- DimPlot(normalized_seurat, label=T, group.by = \"first_annotation\", label.size = 6, repel=T) + NoLegend()  + theme(axis.title.x=element_blank())\n",
    "p1 <- DimPlot(normalized_seurat, label=T, group.by = \"SCT_snn_res.0.2\", label.size = 6, repel=T) + NoLegend() + theme(axis.title.x=element_blank(), axis.text =  element_blank()) + theme(axis.title.y = element_blank())\n",
    "p2 <- DimPlot(normalized_seurat, label=T, group.by = \"SCT_snn_res.0.3\", label.size = 6, repel=T) + NoLegend() + theme(axis.title.x=element_blank(), axis.text = element_blank()) + theme(axis.title.y = element_blank())\n",
    "p3 <- DimPlot(normalized_seurat, label=T, group.by = \"second_annotation\", label.size = 6, repel=T) + NoLegend() + theme(axis.title.x=element_blank(), axis.text = element_blank()) + theme(axis.title.y = element_blank())\n",
    "wrap_plots(p,p1,p2, p3, ncol=4) & plot_layout(guides=\"collect\")"
   ]
  },
  {
   "cell_type": "markdown",
   "id": "6ab19fbe-50bc-475b-b7cd-4bb417a8c45c",
   "metadata": {},
   "source": [
    "### Duct_IC and DCT_collecting duct"
   ]
  },
  {
   "cell_type": "code",
   "execution_count": null,
   "id": "071c0c0b-b7df-41d5-b642-a489c4c30494",
   "metadata": {
    "vscode": {
     "languageId": "r"
    }
   },
   "outputs": [],
   "source": [
    "p <- DimPlot(normalized_seurat, label=T, group.by = \"first_annotation\", label.size = 6, repel=T) + NoLegend()  + theme(axis.title.x=element_blank())\n",
    "p1 <- DimPlot(normalized_seurat, label=T, group.by = \"SCT_snn_res.0.2\", label.size = 6, repel=T) + NoLegend() + theme(axis.title.x=element_blank(), axis.text =  element_blank()) + theme(axis.title.y = element_blank())\n",
    "p2 <- DimPlot(normalized_seurat, label=T, group.by = \"SCT_snn_res.0.3\", label.size = 6, repel=T) + NoLegend() + theme(axis.title.x=element_blank(), axis.text = element_blank()) + theme(axis.title.y = element_blank())\n",
    "p3 <- DimPlot(normalized_seurat, label=T, group.by = \"second_annotation\", label.size = 6, repel=T) + NoLegend() + theme(axis.title.x=element_blank(), axis.text = element_blank()) + theme(axis.title.y = element_blank())\n",
    "p4 <- DimPlot(normalized_seurat, label=T, group.by = \"SCT_snn_res.0.4\", label.size = 6, repel=T) + NoLegend() + theme(axis.title.x=element_blank(), axis.text = element_blank()) + theme(axis.title.y = element_blank())\n",
    "wrap_plots(p,p1,p2, p3, p4, ncol=5) & plot_layout(guides=\"collect\")"
   ]
  },
  {
   "cell_type": "code",
   "execution_count": null,
   "id": "8a52ef31-1c5e-4009-b691-d1e8d47a0ed2",
   "metadata": {
    "vscode": {
     "languageId": "r"
    }
   },
   "outputs": [],
   "source": [
    "ICs <- markers_long %>% filter(cell_type== \"IC\" & marker != \"NA\") %>% pull(marker)\n",
    "DCTs <- markers_long %>% filter(cell_type== \"DCT\" & marker != \"NA\") %>% pull(marker)\n",
    "\n",
    "p <- DotPlot(normalized_seurat, features= ICs, group.by= \"SCT_snn_res.0.4\") + ggtitle(\"ICs\") + NoLegend()\n",
    "p2 <- DotPlot(normalized_seurat, features= DCTs, group.by= \"SCT_snn_res.0.4\") + ggtitle(\"DCTs\") + NoLegend()\n",
    "wrap_plots(p,p2)"
   ]
  },
  {
   "cell_type": "markdown",
   "id": "2da193a6-936a-4c7c-b285-004e5b4bf284",
   "metadata": {},
   "source": [
    "Instead of res.0.3, is better seen in 0.4 So in the res.0.4 number 10 is Intercalated cells. But what is the difference between 7 and 5"
   ]
  },
  {
   "cell_type": "code",
   "execution_count": 166,
   "id": "33f74e9a-7e93-4f60-aca4-b85678abc623",
   "metadata": {
    "vscode": {
     "languageId": "r"
    }
   },
   "outputs": [],
   "source": [
    "IC_ids <- normalized_seurat@meta.data %>% filter(SCT_snn_res.0.4 ==\"10\") %>% rownames()\n",
    "normalized_seurat@meta.data[IC_ids,\"second_annotation\"] <- \"IC\""
   ]
  },
  {
   "cell_type": "code",
   "execution_count": null,
   "id": "fca9e2a6-26fc-4ddf-a346-11f9230122c4",
   "metadata": {
    "vscode": {
     "languageId": "r"
    }
   },
   "outputs": [],
   "source": [
    "p <- DimPlot(normalized_seurat, label=T, group.by = \"first_annotation\", label.size = 6, repel=T) + NoLegend()  + theme(axis.title.x=element_blank())\n",
    "p1 <- DimPlot(normalized_seurat, label=T, group.by = \"SCT_snn_res.0.2\", label.size = 6, repel=T) + NoLegend() + theme(axis.title.x=element_blank(), axis.text =  element_blank()) + theme(axis.title.y = element_blank())\n",
    "p2 <- DimPlot(normalized_seurat, label=T, group.by = \"SCT_snn_res.0.3\", label.size = 6, repel=T) + NoLegend() + theme(axis.title.x=element_blank(), axis.text = element_blank()) + theme(axis.title.y = element_blank())\n",
    "p3 <- DimPlot(normalized_seurat, label=T, group.by = \"second_annotation\", label.size = 6, repel=T) + NoLegend() + theme(axis.title.x=element_blank(), axis.text = element_blank()) + theme(axis.title.y = element_blank())\n",
    "p4 <- DimPlot(normalized_seurat, label=T, group.by = \"SCT_snn_res.0.4\", label.size = 6, repel=T) + NoLegend() + theme(axis.title.x=element_blank(), axis.text = element_blank()) + theme(axis.title.y = element_blank())\n",
    "wrap_plots(p,p1,p2, p3, p4, ncol=5) & plot_layout(guides=\"collect\")"
   ]
  },
  {
   "attachments": {},
   "cell_type": "markdown",
   "id": "248fdac7-1c21-4d5b-8c68-d3fe934adde6",
   "metadata": {},
   "source": [
    "Let's go back to KPMP to see the markers: (\\data\\KPMP_Markers.xslx )\n",
    "* DCT: \"Slc12a3\", \"Cnnm2\", \"Fgf13\", \"Klhl3\", \"Lhx1\", \"Trpm6\"\n",
    "* Collecting tubule: \"Slc8a1\", \"Scn2a\", \"Hsd11b2\", \"Calb1\"\n"
   ]
  },
  {
   "cell_type": "code",
   "execution_count": null,
   "id": "729aac08-aafa-49e7-bf71-8bd08634e54c",
   "metadata": {
    "vscode": {
     "languageId": "r"
    }
   },
   "outputs": [],
   "source": [
    "DCTs <- c(\"Slc12a3\", \"Cnnm2\", \"Fgf13\", \"Klhl3\", \"Lhx1\", \"Trpm6\")\n",
    "CNT <- c(\"Slc8a1\", \"Scn2a\", \"Hsd11b2\", \"Calb1\")\n",
    "\n",
    "p <- DotPlot(normalized_seurat, features= DCTs, group.by= \"SCT_snn_res.0.4\") + ggtitle(\"DCTs\") + NoLegend()\n",
    "p2 <- DotPlot(normalized_seurat, features= CNT, group.by= \"SCT_snn_res.0.4\") + ggtitle(\"CNT\") + NoLegend()\n",
    "wrap_plots(p,p2)"
   ]
  },
  {
   "cell_type": "code",
   "execution_count": 169,
   "id": "e1bba38d-7fab-4f35-9433-1abc73c65a7b",
   "metadata": {
    "vscode": {
     "languageId": "r"
    }
   },
   "outputs": [],
   "source": [
    "DCT_ids <- normalized_seurat@meta.data %>% filter(SCT_snn_res.0.4 ==\"7\") %>% rownames()\n",
    "normalized_seurat@meta.data[DCT_ids,\"second_annotation\"] <- \"DCT\"\n",
    "\n",
    "CNT_ids <- normalized_seurat@meta.data %>% filter(SCT_snn_res.0.4 ==\"5\") %>% rownames()\n",
    "normalized_seurat@meta.data[CNT_ids,\"second_annotation\"] <- \"CNT\""
   ]
  },
  {
   "cell_type": "code",
   "execution_count": 170,
   "id": "923d3adf-0ed0-4834-b1ba-7c1b6990b81a",
   "metadata": {
    "vscode": {
     "languageId": "r"
    }
   },
   "outputs": [],
   "source": [
    "outlier <- normalized_seurat@meta.data %>% filter(second_annotation == \"Collecting_duct, IC\") %>% rownames()\n",
    "normalized_seurat@meta.data[outlier,\"second_annotation\"] <- \"IC\""
   ]
  },
  {
   "cell_type": "code",
   "execution_count": null,
   "id": "25e9ed3e-1406-4098-8341-e587abc80588",
   "metadata": {
    "vscode": {
     "languageId": "r"
    }
   },
   "outputs": [],
   "source": [
    "p <- DimPlot(normalized_seurat, label=T, group.by = \"first_annotation\", label.size = 6, repel=T) + NoLegend()  + theme(axis.title.x=element_blank())\n",
    "p1 <- DimPlot(normalized_seurat, label=T, group.by = \"SCT_snn_res.0.2\", label.size = 6, repel=T) + NoLegend() + theme(axis.title.x=element_blank(), axis.text =  element_blank()) + theme(axis.title.y = element_blank())\n",
    "p2 <- DimPlot(normalized_seurat, label=T, group.by = \"SCT_snn_res.0.3\", label.size = 6, repel=T) + NoLegend() + theme(axis.title.x=element_blank(), axis.text = element_blank()) + theme(axis.title.y = element_blank())\n",
    "p3 <- DimPlot(normalized_seurat, label=T, group.by = \"second_annotation\", label.size = 6, repel=T) + NoLegend() + theme(axis.title.x=element_blank(), axis.text = element_blank()) + theme(axis.title.y = element_blank())\n",
    "wrap_plots(p,p1,p2, p3, ncol=4) & plot_layout(guides=\"collect\")"
   ]
  },
  {
   "cell_type": "markdown",
   "id": "7398203e-c618-43e1-9a51-31c937f11707",
   "metadata": {},
   "source": [
    "### Find VSMC in EC"
   ]
  },
  {
   "cell_type": "code",
   "execution_count": null,
   "id": "807e1e8e-3eb2-4708-94a8-6a70f84cfd17",
   "metadata": {
    "vscode": {
     "languageId": "r"
    }
   },
   "outputs": [],
   "source": [
    "Endos <- markers_long %>% filter(cell_type== \"Endo\" & marker != \"NA\") %>% pull(marker)\n",
    "VSCMs <- c(\"Acta2\", \"Myh11\")\n",
    "p <- DotPlot(normalized_seurat, features= Endos, group.by= \"SCT_snn_res.0.5\") + ggtitle(\"Endos\") + NoLegend()\n",
    "p2 <- DotPlot(normalized_seurat, features= VSCMs, group.by= \"SCT_snn_res.0.5\") + ggtitle(\"VSCMs\") + NoLegend()\n",
    "wrap_plots(p,p2)"
   ]
  },
  {
   "cell_type": "code",
   "execution_count": 173,
   "id": "8a6ea46d-2be4-4ad6-acfe-ce081fa0a9f6",
   "metadata": {
    "vscode": {
     "languageId": "r"
    }
   },
   "outputs": [],
   "source": [
    "EC_ids <- normalized_seurat@meta.data %>% filter(SCT_snn_res.0.5 ==\"9\") %>% rownames()\n",
    "normalized_seurat@meta.data[EC_ids,\"second_annotation\"] <- \"EC\"\n",
    "\n",
    "VSCM_ids <- normalized_seurat@meta.data %>% filter(SCT_snn_res.0.5 ==\"18\") %>% rownames()\n",
    "normalized_seurat@meta.data[VSCM_ids,\"second_annotation\"] <- \"VSCM\""
   ]
  },
  {
   "cell_type": "code",
   "execution_count": 174,
   "id": "dda411dc-d56a-4f49-b3f5-2caadce6443a",
   "metadata": {
    "vscode": {
     "languageId": "r"
    }
   },
   "outputs": [],
   "source": [
    "normalized_seurat$second_annotation <- as.factor(normalized_seurat$second_annotation)"
   ]
  },
  {
   "cell_type": "code",
   "execution_count": null,
   "id": "b80c22c6-fa4e-4b85-ac85-40c05aa5bf96",
   "metadata": {
    "vscode": {
     "languageId": "r"
    }
   },
   "outputs": [],
   "source": [
    "options(repr.plot.width = 12, repr.plot.height = 10, res=1200)\n",
    "DimPlot(normalized_seurat, label=T, group.by = \"second_annotation\", label.size = 6, repel=T) + NoLegend()"
   ]
  },
  {
   "cell_type": "markdown",
   "id": "0c9ed1cd-5569-4475-b075-140cfdd27431",
   "metadata": {},
   "source": [
    "## Third annotation"
   ]
  },
  {
   "cell_type": "code",
   "execution_count": 176,
   "id": "44e61b5b-6010-4db5-82fb-9d29808f1aa6",
   "metadata": {
    "vscode": {
     "languageId": "r"
    }
   },
   "outputs": [],
   "source": [
    "normalized_seurat$third_annotation <- normalized_seurat$second_annotation %>% as.character()"
   ]
  },
  {
   "cell_type": "markdown",
   "id": "f7382760-6094-4411-8fd3-85a25d064ea6",
   "metadata": {},
   "source": [
    "### Separate LOH"
   ]
  },
  {
   "cell_type": "code",
   "execution_count": null,
   "id": "75334d0b-d8c7-4be1-bdde-0288421ed407",
   "metadata": {
    "vscode": {
     "languageId": "r"
    }
   },
   "outputs": [],
   "source": [
    "options(repr.plot.width = 25, repr.plot.height = 10, res=1200)\n",
    "p1 <- DimPlot(normalized_seurat, label=T, group.by = \"third_annotation\", label.size = 6, repel=T) + NoLegend() + theme(axis.title.x=element_blank())\n",
    "p2 <- DimPlot(normalized_seurat, label=T, group.by = \"SCT_snn_res.0.3\", label.size = 6, repel=T) + NoLegend() + theme(axis.title.x=element_blank(), axis.text = element_blank()) + theme(axis.title.y = element_blank())\n",
    "p4 <- DimPlot(normalized_seurat, label=T, group.by = \"SCT_snn_res.0.4\", label.size = 6, repel=T) + NoLegend() + theme(axis.title.x=element_blank(), axis.text = element_blank()) + theme(axis.title.y = element_blank())\n",
    "wrap_plots(p1,p2, p4, ncol=3) & plot_layout(guides=\"collect\")"
   ]
  },
  {
   "cell_type": "code",
   "execution_count": null,
   "id": "c29a9fc4-688e-4832-89c9-0b31fb7412a2",
   "metadata": {
    "vscode": {
     "languageId": "r"
    }
   },
   "outputs": [],
   "source": [
    "options(repr.plot.width = 30, repr.plot.height = 15, res=1200)\n",
    "Thin_Limb_Cell <- c(\"Cryab\", \"Tacstd2\", \"Klrg2\", \"Col26a1\", \"Boc\")\n",
    "Descending_Thin_Limb_Cell_Type_2 <- c(\"Vcam1\", \"Slc39a8\", \"Aqp1\", \"Lrrc4c\", \"Satb2\")\n",
    "Ascending_Thin_Limb_Cell <- c(\"Bcas1\", \"Clcnka\", \"Cldn10\", \"Prox1\")\n",
    "\n",
    "Thick_Ascending_Limb_Cell <- c(\"Casr\", \"Slc12a1\", \"Umod\")\n",
    "Medullary_Thick_Ascending_Limb_Cell <- c(\"Esrrb\", \"Egf\", \"Cldn14\", \"Mfsd4a\", \"Kctd16\", \"Rap1gap\", \"Ank2\", \"Cyfip2\")\n",
    "Cortical_Thick_Ascending_Limb_Cell <- c(\"Ppm1e\", \"Gp2\", \"Enox1\", \"Tmem207\", \"Tmem52b\", \"Cldn16\", \"Wnk1\")\n",
    "\n",
    "p1 <- DotPlot(normalized_seurat, features = Thin_Limb_Cell, group.by = \"SCT_snn_res.0.4\") + ggtitle(\"Thin Limb Cell\") + NoLegend()\n",
    "p2<- DotPlot(normalized_seurat, features = Descending_Thin_Limb_Cell_Type_2, group.by = \"SCT_snn_res.0.4\") + ggtitle(\"Descending Thin Limb Cell Type 2\") + NoLegend()\n",
    "p5 <- DotPlot(normalized_seurat, features = Ascending_Thin_Limb_Cell, group.by = \"SCT_snn_res.0.4\") + ggtitle(\"Ascending Thin Limb Cell\") + NoLegend()\n",
    "p6 <- DotPlot(normalized_seurat, features = Thick_Ascending_Limb_Cell, group.by = \"SCT_snn_res.0.4\") + ggtitle(\"Thick Ascending Limb Cell\") + NoLegend()\n",
    "p7 <- DotPlot(normalized_seurat, features = Medullary_Thick_Ascending_Limb_Cell, group.by = \"SCT_snn_res.0.4\") + ggtitle(\"Medullary Thick Ascending Limb Cell\") + NoLegend()\n",
    "p8 <- DotPlot(normalized_seurat, features = Cortical_Thick_Ascending_Limb_Cell, group.by = \"SCT_snn_res.0.4\") + ggtitle(\"Cortical Thick Ascending Limb Cell\") + NoLegend()\n",
    "wrap_plots(p1,p2,p5,p6,p7,p8, ncol=3)"
   ]
  },
  {
   "cell_type": "code",
   "execution_count": 179,
   "id": "fdcc14be-2953-4b5d-8027-8f295e19b73b",
   "metadata": {
    "vscode": {
     "languageId": "r"
    }
   },
   "outputs": [],
   "source": [
    "options(repr.plot.width = 8, repr.plot.height = 7, res=1200)\n",
    "Thin_L <- normalized_seurat@meta.data %>% filter(SCT_snn_res.0.4 ==\"9\"  | SCT_snn_res.0.4 ==\"14\") %>% rownames()\n",
    "normalized_seurat@meta.data[Thin_L,\"third_annotation\"] <- \"ThinL\""
   ]
  },
  {
   "cell_type": "code",
   "execution_count": null,
   "id": "de5c123c-0f45-4139-bc37-f52da3cb6370",
   "metadata": {
    "vscode": {
     "languageId": "r"
    }
   },
   "outputs": [],
   "source": [
    "options(repr.plot.width = 8, repr.plot.height = 7, res=1200)\n",
    "Thick_L <- normalized_seurat@meta.data %>% filter(SCT_snn_res.0.4 ==\"3\"  | SCT_snn_res.0.4 ==\"4\") %>% rownames()\n",
    "normalized_seurat@meta.data[Thick_L,\"third_annotation\"] <- \"ThickL\"\n",
    "p2 <- DimPlot(normalized_seurat, label=T, group.by = \"third_annotation\", label.size = 6, repel=T) + NoLegend() + theme(axis.title.x=element_blank(), axis.text = element_blank()) + theme(axis.title.y = element_blank())\n",
    "p2"
   ]
  },
  {
   "cell_type": "code",
   "execution_count": null,
   "id": "623a0ed5-e506-40c8-920d-9c732edf6848",
   "metadata": {
    "vscode": {
     "languageId": "r"
    }
   },
   "outputs": [],
   "source": [
    "outlier <- normalized_seurat@meta.data %>% filter(third_annotation == \"LOH\") %>% rownames()\n",
    "normalized_seurat@meta.data[outlier,\"third_annotation\"] <- \"ThinL\"\n",
    "p2 <- DimPlot(normalized_seurat, label=T, group.by = \"third_annotation\", label.size = 6, repel=T) + NoLegend() + theme(axis.title.x=element_blank(), axis.text = element_blank()) + theme(axis.title.y = element_blank())\n",
    "p2"
   ]
  },
  {
   "cell_type": "markdown",
   "id": "31fd8864-b1f3-43c6-acb6-a86db8dce08d",
   "metadata": {},
   "source": [
    "### What are these small clusters? IMM?"
   ]
  },
  {
   "cell_type": "code",
   "execution_count": null,
   "id": "14258dbb-35e9-4259-8c75-6eab13268add",
   "metadata": {
    "vscode": {
     "languageId": "r"
    }
   },
   "outputs": [],
   "source": [
    "options(repr.plot.width = 15, repr.plot.height = 9, res=1200)\n",
    "p <- DimPlot(normalized_seurat, label=T, group.by = \"SCT_snn_res.0.4\", label.size = 6, repel=T) + NoLegend() + theme(axis.title.x=element_blank(), axis.text = element_blank()) + theme(axis.title.y = element_blank())\n",
    "p2 <- DimPlot(normalized_seurat, label=T, group.by = \"third_annotation\", label.size = 6, repel=T) + NoLegend() + theme(axis.title.x=element_blank(), axis.text = element_blank()) + theme(axis.title.y = element_blank())\n",
    "wrap_plots(p2,p)"
   ]
  },
  {
   "cell_type": "code",
   "execution_count": null,
   "id": "af3cee64-119e-4b29-bce5-671097038ec9",
   "metadata": {
    "vscode": {
     "languageId": "r"
    }
   },
   "outputs": [],
   "source": [
    "options(repr.plot.width = 30, repr.plot.height = 15, res=1200)\n",
    "BCell<- c(\"Bank1\", \"Blk\", \"Ms4a1\", \"Bach2\")\n",
    "PlasmaCell<- c(\"Igkc\", \"Tent5c\", \"Mzb1\", \"Cd38\", \"Jchain\")\n",
    "TCell <- c(\"Cd96\", \"Cd247\", \"Themis\", \"Bcl11b\", \"Camk4\", \"Il7r\")\n",
    "macrophagues <- markers_long %>% filter(cell_type== \"Macro\" & marker != \"NA\") %>% pull(marker)\n",
    "Naturalkiller <- c(\"Runx3\", \"Nkg7\", \"Ccl5\",\"Ccl4\", \"Gzma\")\n",
    "Dendritic_Cell <- c(\"Itgax\",  \"Csf2ra\", \"Ciita\", \"Wdfy4\", \"Flt3\", \"Cadm1\", \"Zbtb46\", \"Clec9a\")\n",
    "Non_Classical_monocyte <- c(\"Ctss\", \"Irak3\", \"Tcf7l2\", \"Tnfrsf1b\")\n",
    "Neutrophil <- c(\"S100a9\", \"S100a8\")\n",
    "\n",
    "p <- DotPlot(normalized_seurat, features= TCell, group.by= \"SCT_snn_res.0.4\") + ggtitle(\"TCell\") + NoLegend()\n",
    "p3 <- DotPlot(normalized_seurat, features= BCell, group.by= \"SCT_snn_res.0.4\") + ggtitle(\"BCell\") + NoLegend()\n",
    "p2 <- DotPlot(normalized_seurat, features= PlasmaCell, group.by= \"SCT_snn_res.0.4\") + ggtitle(\"PlasmaCell\") + NoLegend()\n",
    "p6 <- DotPlot(normalized_seurat, features= Naturalkiller, group.by= \"SCT_snn_res.0.4\") + ggtitle(\"Naturalkiller\") + NoLegend()\n",
    "p4 <- DotPlot(normalized_seurat, features= macrophagues, group.by= \"SCT_snn_res.0.4\") + ggtitle(\"macrophagues\") + NoLegend()\n",
    "p5 <- DotPlot(normalized_seurat, features= Dendritic_Cell, group.by= \"SCT_snn_res.0.4\") + ggtitle(\"Dendritic_Cell\") + NoLegend()\n",
    "p7 <- DotPlot(normalized_seurat, features= Non_Classical_monocyte, group.by= \"SCT_snn_res.0.4\") + ggtitle(\"Non_Classical_monocyte\") + NoLegend()\n",
    "p8 <- DotPlot(normalized_seurat, features= Neutrophil, group.by= \"SCT_snn_res.0.4\") + ggtitle(\"Neutrophil\") + NoLegend()\n",
    "\n",
    "\n",
    "wrap_plots(p, p3,p2,p4, p6,p5,p7,p8, ncol=4)"
   ]
  },
  {
   "cell_type": "markdown",
   "id": "04767ca4-90be-44db-8d38-ce5070d0f022",
   "metadata": {},
   "source": [
    "### Other small cluster, FIB?"
   ]
  },
  {
   "cell_type": "code",
   "execution_count": null,
   "id": "4e6b5957-7dc3-4f34-bee0-f5b151995295",
   "metadata": {
    "vscode": {
     "languageId": "r"
    }
   },
   "outputs": [],
   "source": [
    "options(repr.plot.width = 7, repr.plot.height = 7, res=1200)\n",
    "DimPlot(normalized_seurat, label=T, group.by = \"SCT_snn_res.0.8\", label.size = 6, repel=T) + NoLegend() "
   ]
  },
  {
   "cell_type": "code",
   "execution_count": null,
   "id": "9567d18d-8d41-4bed-92d2-4ba8c1764c03",
   "metadata": {
    "vscode": {
     "languageId": "r"
    }
   },
   "outputs": [],
   "source": [
    "options(repr.plot.width = 20, repr.plot.height = 13, res=1200)\n",
    "FIB <- subset(x = normalized_seurat,subset = second_annotation == \"FIB\")\n",
    "# DimPlot(FIB, label=T, group.by = \"SCT_snn_res.0.4\", label.size = 6, repel=T) + NoLegend() \n",
    "FIB <- FIB %>% FindNeighbors(., dims = 1:50) %>% \n",
    "                    FindClusters(., resolution  = c(0.1) )\n",
    "\n",
    "FIB$SCT_snn_res.0.1 %>% table()\n",
    "p <- DimPlot(FIB, label=T, group.by = \"SCT_snn_res.0.1\", label.size = 6, repel=T) + NoLegend() \n",
    "p2 <- DimPlot(FIB, label=F, group.by = \"Treatment\") \n",
    "wrap_plots(p,p2)"
   ]
  },
  {
   "cell_type": "code",
   "execution_count": null,
   "id": "1129b45e-175b-41ce-8f50-dd765d69d8e0",
   "metadata": {
    "scrolled": true,
    "vscode": {
     "languageId": "r"
    }
   },
   "outputs": [],
   "source": [
    "Idents(FIB) <- \"SCT_snn_res.0.1\"\n",
    "markers <- FindMarkers(FIB, ident.1 = \"1\", ident.2=\"0\") %>% filter((p_val_adj < 0.05) & (avg_log2FC > 0.25)) %>% arrange(desc(avg_log2FC)) %>% head(100)\n",
    "markers %>% head() "
   ]
  },
  {
   "cell_type": "code",
   "execution_count": null,
   "id": "58f7ad6e-fd6d-4868-9383-47124cf9baa4",
   "metadata": {
    "vscode": {
     "languageId": "r"
    }
   },
   "outputs": [],
   "source": [
    "options(repr.plot.width = 25, repr.plot.height = 10, res=1200)\n",
    "p1 <- DimPlot(normalized_seurat, label=T, group.by = \"first_annotation\", label.size = 6, repel=T) + NoLegend() + theme(axis.title.x=element_blank())\n",
    "p2 <- DimPlot(normalized_seurat, label=T, group.by = \"second_annotation\", label.size = 6, repel=T) + NoLegend() + theme(axis.title.x=element_blank(), axis.text = element_blank()) + theme(axis.title.y = element_blank())\n",
    "p4 <- DimPlot(normalized_seurat, label=T, group.by = \"third_annotation\", label.size = 6, repel=T) + NoLegend() + theme(axis.title.x=element_blank(), axis.text = element_blank()) + theme(axis.title.y = element_blank())\n",
    "wrap_plots(p1,p2, p4, ncol=3) & plot_layout(guides=\"collect\")"
   ]
  },
  {
   "cell_type": "markdown",
   "id": "dd0dcf0e-9591-4fb1-9320-61e128323b20",
   "metadata": {},
   "source": [
    "After discussion with biologists, for now we are going to split LOH only in thin and thick, and merge Bcell and Macrophagues since is quite difficult to separate them."
   ]
  },
  {
   "cell_type": "code",
   "execution_count": 188,
   "id": "e8b1d1b4-4089-46cb-afbd-6538e73afddd",
   "metadata": {
    "vscode": {
     "languageId": "r"
    }
   },
   "outputs": [],
   "source": [
    "normalized_seurat$annotation <- normalized_seurat$third_annotation\n",
    "IMM_ids <- normalized_seurat@meta.data %>% filter(annotation ==\"Bcell\" | annotation == \"Macrophagues\") %>% rownames()\n",
    "normalized_seurat@meta.data[IMM_ids,\"annotation\"] <- \"IMM\""
   ]
  },
  {
   "cell_type": "code",
   "execution_count": null,
   "id": "a7b0154e-aea3-4153-8aff-39aa6e3df708",
   "metadata": {
    "vscode": {
     "languageId": "r"
    }
   },
   "outputs": [],
   "source": [
    "options(repr.plot.width = 25, repr.plot.height = 10, res=1200)\n",
    "p1 <- DimPlot(normalized_seurat, label=T, group.by = \"annotation\", label.size = 6, repel=T) + NoLegend() + theme(axis.title.x=element_blank())\n",
    "p2 <- DimPlot(normalized_seurat, group.by = \"Treatment\") + theme(axis.title.x=element_blank(), axis.text = element_blank()) + theme(axis.title.y = element_blank())\n",
    "wrap_plots(p1,p2,ncol=2) & plot_layout(guides=\"collect\")"
   ]
  },
  {
   "cell_type": "markdown",
   "id": "f9d1033c-9d00-412d-8aa2-43511aa53f5a",
   "metadata": {},
   "source": [
    "# Contribution to each condition to the clusters"
   ]
  },
  {
   "cell_type": "code",
   "execution_count": null,
   "id": "df08ab75-cdd6-4d12-9c8c-d0d2fc556a15",
   "metadata": {
    "vscode": {
     "languageId": "r"
    }
   },
   "outputs": [],
   "source": [
    "options(repr.plot.width = 15, repr.plot.height = 12)\n",
    "create_barplot <- function(column_name, seurat_object) {\n",
    "    df <- seurat_object@meta.data %>%\n",
    "        group_by(!!sym(column_name), annotation) %>%\n",
    "        summarise(n = n(), .groups = \"drop\") %>%\n",
    "        group_by(!!sym(column_name)) %>%\n",
    "        mutate(freq = n / sum(n))\n",
    "      \n",
    "      # Create barplot\n",
    "      p <- ggplot(df, aes_string(x = \"annotation\", y = \"freq\", fill = column_name)) +\n",
    "        geom_bar(stat = \"identity\", position = \"fill\") +\n",
    "        labs(x = \"Cell type\", y = \"Normalized Percentage\", fill = column_name) +\n",
    "        theme_minimal() +\n",
    "        scale_y_continuous(labels = scales::percent) +\n",
    "        theme(\n",
    "          legend.position = \"right\",\n",
    "          axis.title.y = element_blank(),\n",
    "          axis.text.y = element_blank(),\n",
    "          axis.ticks.y = element_blank(),\n",
    "          axis.text.x = element_text(angle = 45, vjust = 1, hjust = 1, size = 12),\n",
    "          panel.border = element_blank()\n",
    "        )\n",
    "      return(p)\n",
    "}\n",
    "\n",
    "# Vector of column names to create plots for\n",
    "columns_to_plot <- c(\"alias_id\", \"Treatment\")\n",
    "\n",
    "# Use lapply to create a list of plots\n",
    "list_of_plots <- lapply(columns_to_plot, create_barplot, seurat_object = normalized_seurat)\n",
    "\n",
    "p <- wrap_plots(list_of_plots, ncol=1)\n",
    "plot(p)\n",
    "\n",
    "if (write_plots) {\n",
    "    ggsave(p, filename = file.path(plot_dir, \"/plots/analysis_scRNAseq/Contribution_sample_treatment.png\"), width = 15, height = 12)\n",
    "}"
   ]
  },
  {
   "cell_type": "code",
   "execution_count": 98,
   "id": "6ec9dd50-4dc1-4d77-a328-5eda90740b1a",
   "metadata": {
    "vscode": {
     "languageId": "r"
    }
   },
   "outputs": [],
   "source": [
    "options(repr.plot.width = 12, repr.plot.height = 8)\n",
    "p <- DimPlot(normalized_seurat, label=T, group.by = \"annotation\", label.size = 6, repel=T) + NoLegend() + theme(axis.title.x=element_blank())\n",
    "\n",
    "if (write_plots) {\n",
    "    ggsave(p, filename = file.path(plot_dir, \"/plots/analysis_scRNAseq/UMAP_annotated.png\"), width = 12, height = 8)\n",
    "}"
   ]
  }
 ],
 "metadata": {
  "kernelspec": {
   "display_name": "R",
   "language": "R",
   "name": "ir"
  },
  "language_info": {
   "codemirror_mode": "r",
   "file_extension": ".r",
   "mimetype": "text/x-r-source",
   "name": "R",
   "pygments_lexer": "r",
   "version": "4.3.2"
  }
 },
 "nbformat": 4,
 "nbformat_minor": 5
}
