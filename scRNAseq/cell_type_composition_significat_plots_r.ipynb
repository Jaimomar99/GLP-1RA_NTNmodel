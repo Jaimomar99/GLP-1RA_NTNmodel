{
 "cells": [
  {
   "cell_type": "code",
   "execution_count": 1,
   "metadata": {
    "vscode": {
     "languageId": "r"
    }
   },
   "outputs": [
    {
     "name": "stderr",
     "output_type": "stream",
     "text": [
      "Loading required package: SeuratObject\n",
      "\n",
      "Loading required package: sp\n",
      "\n",
      "\n",
      "Attaching package: ‘SeuratObject’\n",
      "\n",
      "\n",
      "The following objects are masked from ‘package:base’:\n",
      "\n",
      "    intersect, t\n",
      "\n",
      "\n",
      "── \u001b[1mAttaching core tidyverse packages\u001b[22m ──────────────────────────────────────────────────────────────────────────────────────────────────────────────────────────────────────────────────────────────────────── tidyverse 2.0.0 ──\n",
      "\u001b[32m✔\u001b[39m \u001b[34mdplyr    \u001b[39m 1.1.4     \u001b[32m✔\u001b[39m \u001b[34mreadr    \u001b[39m 2.1.5\n",
      "\u001b[32m✔\u001b[39m \u001b[34mforcats  \u001b[39m 1.0.0     \u001b[32m✔\u001b[39m \u001b[34mstringr  \u001b[39m 1.5.1\n",
      "\u001b[32m✔\u001b[39m \u001b[34mggplot2  \u001b[39m 3.5.1     \u001b[32m✔\u001b[39m \u001b[34mtibble   \u001b[39m 3.2.1\n",
      "\u001b[32m✔\u001b[39m \u001b[34mlubridate\u001b[39m 1.9.3     \u001b[32m✔\u001b[39m \u001b[34mtidyr    \u001b[39m 1.3.1\n",
      "\u001b[32m✔\u001b[39m \u001b[34mpurrr    \u001b[39m 1.0.2     \n",
      "── \u001b[1mConflicts\u001b[22m ────────────────────────────────────────────────────────────────────────────────────────────────────────────────────────────────────────────────────────────────────────────────────────── tidyverse_conflicts() ──\n",
      "\u001b[31m✖\u001b[39m \u001b[34mdplyr\u001b[39m::\u001b[32mfilter()\u001b[39m masks \u001b[34mstats\u001b[39m::filter()\n",
      "\u001b[31m✖\u001b[39m \u001b[34mdplyr\u001b[39m::\u001b[32mlag()\u001b[39m    masks \u001b[34mstats\u001b[39m::lag()\n",
      "\u001b[36mℹ\u001b[39m Use the conflicted package (\u001b[3m\u001b[34m<http://conflicted.r-lib.org/>\u001b[39m\u001b[23m) to force all conflicts to become errors\n"
     ]
    }
   ],
   "source": [
    "library(Seurat)\n",
    "library(tidyverse)\n",
    "library(ggpubr)"
   ]
  },
  {
   "cell_type": "code",
   "execution_count": null,
   "metadata": {
    "vscode": {
     "languageId": "r"
    }
   },
   "outputs": [],
   "source": [
    "plot_dir <- paste0(\".//kidney_mouse_ntn/reports/plots/cell_type_composition/\")\n",
    "processed_dir <- \"./Data/Spatial/visium/kidney/mouse_NTN/processed/ultimate_processed/\""
   ]
  },
  {
   "cell_type": "code",
   "execution_count": 3,
   "metadata": {
    "vscode": {
     "languageId": "r"
    }
   },
   "outputs": [
    {
     "name": "stderr",
     "output_type": "stream",
     "text": [
      "Integrated object read\n",
      "\n"
     ]
    }
   ],
   "source": [
    "integrated_obj <- readRDS(file.path(processed_dir, \"integrated/rds/integrated_annotated_2.rds\"))\n",
    "message(\"Integrated object read\")"
   ]
  },
  {
   "cell_type": "code",
   "execution_count": null,
   "metadata": {
    "vscode": {
     "languageId": "r"
    }
   },
   "outputs": [
    {
     "name": "stderr",
     "output_type": "stream",
     "text": [
      "\u001b[1m\u001b[22mNew names:\n",
      "\u001b[36m•\u001b[39m `` -> `...1`\n"
     ]
    },
    {
     "data": {
      "text/html": [
       "<style>\n",
       ".list-inline {list-style: none; margin:0; padding: 0}\n",
       ".list-inline>li {display: inline-block}\n",
       ".list-inline>li:not(:last-child)::after {content: \"\\00b7\"; padding: 0 .5ex}\n",
       "</style>\n",
       "<ol class=list-inline><li>'Glomeruli'</li><li>'Cortex'</li><li>'ISOM'</li><li>'Inner_Medulla'</li><li>'OSOM'</li><li>'Renal Pelvis'</li></ol>\n"
      ],
      "text/latex": [
       "\\begin{enumerate*}\n",
       "\\item 'Glomeruli'\n",
       "\\item 'Cortex'\n",
       "\\item 'ISOM'\n",
       "\\item 'Inner\\_Medulla'\n",
       "\\item 'OSOM'\n",
       "\\item 'Renal Pelvis'\n",
       "\\end{enumerate*}\n"
      ],
      "text/markdown": [
       "1. 'Glomeruli'\n",
       "2. 'Cortex'\n",
       "3. 'ISOM'\n",
       "4. 'Inner_Medulla'\n",
       "5. 'OSOM'\n",
       "6. 'Renal Pelvis'\n",
       "\n",
       "\n"
      ],
      "text/plain": [
       "[1] \"Glomeruli\"     \"Cortex\"        \"ISOM\"          \"Inner_Medulla\"\n",
       "[5] \"OSOM\"          \"Renal Pelvis\" "
      ]
     },
     "metadata": {},
     "output_type": "display_data"
    }
   ],
   "source": [
    "#obtaining cell_types \n",
    "cell_types <- read_csv(\"./Data/Spatial/visium/kidney/mouse_NTN/processed/deconvolution/split_0/cell_abundance_q5.csv\", show_col_types = FALSE) %>%\n",
    "    colnames() %>%\n",
    "    .[2:length(.)]\n",
    "\n",
    "group_variable <- \"diagnosis\"\n",
    "alias_id_col <- \"alias_id\"\n",
    "Region_col <- \"Region2\"\n",
    "Regions <- integrated_obj@meta.data[[Region_col]] %>% unique() %>% as.character()\n",
    "\n",
    "my_comparisons <- list(c(\"Healthy\", \"vehicle\"), c(\"vehicle\", \"Enalapril\"), c(\"vehicle\", \"Sema\"))\n",
    "Regions"
   ]
  },
  {
   "cell_type": "code",
   "execution_count": null,
   "metadata": {
    "vscode": {
     "languageId": "r"
    }
   },
   "outputs": [],
   "source": [
    "data <- integrated_obj@meta.data %>% \n",
    "        select(diagnosis, all_of(cell_types), alias_id_col, Region_col) %>%\n",
    "        mutate(diagnosis = factor(diagnosis, levels = c(\"Healthy\", \"vehicle\", \"Enalapril\", \"Sema\")))\n",
    "\n",
    "lapply(Regions, function(Region){\n",
    "    region_data <- filter(data, !!sym(Region_col) == Region)\n",
    "    \n",
    "    # Create folder if it doesn't exist\n",
    "    dir.create(paste0(plot_dir, \"/\", Region), showWarnings = FALSE)\n",
    "\n",
    "    lapply(cell_types, function(cell_type){\n",
    "        cell_type_data <- select(region_data, !!sym(group_variable), all_of(cell_type), !!sym(alias_id_col)) %>%\n",
    "            group_by(!!sym(group_variable), !!sym(alias_id_col)) %>%\n",
    "            summarise(cell_type = sum(!!sym(cell_type)), .groups = 'drop')\n",
    "        \n",
    "        p <- ggboxplot(cell_type_data, x = group_variable, y = \"cell_type\",\n",
    "                    add = \"jitter\",\n",
    "                    color = group_variable, # Color by Diagnosis\n",
    "                    palette = \"jco\" # jco is a color palette from ggpubr\n",
    "                    ) +\n",
    "                    # Remove legend title\n",
    "                    theme(legend.title = element_blank(),\n",
    "                    # Remove x labels\n",
    "                    axis.text.y = element_blank(),\n",
    "                    axis.ticks.y = element_blank(),\n",
    "                    #remove line axis\n",
    "                    axis.line.y = element_blank(),\n",
    "                    ) +\n",
    "            stat_compare_means(comparisons = my_comparisons, label = \"p.signif\") +\n",
    "            xlab(\"Treatment\") +\n",
    "            ylab(paste0(\"Pseudo-bulk cell proportion per spot\")) +\n",
    "            ggtitle(paste0(cell_type, \" in \", Region))\n",
    "        \n",
    "        ggsave(paste0(plot_dir, \"/\", Region, \"/\", cell_type, \".png\"), p, width = 10, height = 10, bg = \"white\", dpi = 300)\n",
    "    })\n",
    "})"
   ]
  },
  {
   "cell_type": "code",
   "execution_count": null,
   "metadata": {
    "vscode": {
     "languageId": "r"
    }
   },
   "outputs": [],
   "source": [
    "# #other approach using facet.by\n",
    "# p <- ggboxplot(ToothGrowth, x = \"supp\", y = \"len\",\n",
    "#               color = \"supp\", palette = \"npg\",\n",
    "#               add = \"jitter\",\n",
    "#               facet.by = \"dose\", short.panel.labs = FALSE)\n",
    "# # Use only p.format as label. Remove method name.\n",
    "# p + stat_compare_means(\n",
    "#  aes(label = paste0(\"p = \", after_stat(p.format)))\n",
    "# )"
   ]
  }
 ],
 "metadata": {
  "kernelspec": {
   "display_name": "R4.3_visium_notebooks",
   "language": "R",
   "name": "r4.3_visium_notebooks"
  },
  "language_info": {
   "codemirror_mode": "r",
   "file_extension": ".r",
   "mimetype": "text/x-r-source",
   "name": "R",
   "pygments_lexer": "r",
   "version": "4.3.2"
  }
 },
 "nbformat": 4,
 "nbformat_minor": 2
}
