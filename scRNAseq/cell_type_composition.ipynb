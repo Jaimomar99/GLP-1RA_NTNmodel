{
 "cells": [
  {
   "cell_type": "code",
   "execution_count": null,
   "metadata": {
    "vscode": {
     "languageId": "r"
    }
   },
   "outputs": [],
   "source": [
    "#input dataset information by developers\n",
    "project_dir <- \"./Data/Spatial/visium/kidney/mouse_NTN/\"\n",
    "processed_dir <- \"./Data/Spatial/visium/kidney/mouse_NTN/processed/ultimate_processed/\"\n",
    "pipeline_dir <- \"./software/project_repos/visium_pipeline\"\n",
    "\n",
    "suppressWarnings(suppressMessages(library(Seurat)))\n",
    "suppressWarnings(suppressMessages(library(dplyr)))\n",
    "suppressWarnings(suppressMessages(library(tidyverse)))\n",
    "suppressMessages(source(paste0(pipeline_dir, \"/R/utils.R\")))\n",
    "\n",
    "library(ggpubr)\n",
    "library(patchwork)\n",
    "library(ggthemes)"
   ]
  },
  {
   "cell_type": "markdown",
   "metadata": {},
   "source": [
    "# reading data"
   ]
  },
  {
   "cell_type": "code",
   "execution_count": null,
   "metadata": {
    "vscode": {
     "languageId": "r"
    }
   },
   "outputs": [
    {
     "data": {
      "text/plain": [
       "An object of class Seurat \n",
       "29159 features across 19431 samples within 2 assays \n",
       "Active assay: SCT (14578 features, 3000 variable features)\n",
       " 3 layers present: counts, data, scale.data\n",
       " 1 other assay present: RNA\n",
       " 3 dimensional reductions calculated: pca, harmony, umap"
      ]
     },
     "metadata": {},
     "output_type": "display_data"
    },
    {
     "name": "stderr",
     "output_type": "stream",
     "text": [
      "Integrated object read\n",
      "\n"
     ]
    }
   ],
   "source": [
    "sc_obj <- readRDS(\"./Data/scRNA/kidney/mouse_NTN/processed/annotated_v2.rds\")\n",
    "sc_obj\n",
    "\n",
    "integrated_obj <- readRDS(file.path(processed_dir, \"integrated/rds/integrated_annotated_2.rds\"))\n",
    "message(\"Integrated object read\")"
   ]
  },
  {
   "cell_type": "code",
   "execution_count": 3,
   "metadata": {
    "vscode": {
     "languageId": "r"
    }
   },
   "outputs": [],
   "source": [
    "MyPalette <- c(\"#CBD588\",\"#89C5DA\", \"#DA5724\", \"#74D944\", \"#CE50CA\", \"#3F4921\", \"#C0717C\",  \"#5F7FC7\", \n",
    "\"#673770\", \"#D3D93E\", \"#38333E\", \"#508578\", \"#D7C1B1\", \"#689030\", \"#AD6F3B\", \"#CD9BCD\", \n",
    "\"#D14285\", \"#6DDE88\", \"#652926\", \"#7FDCC0\", \"#C84248\", \"#8569D5\", \"#5E738F\", \"#D1A33D\", \n",
    "\"#8A7C64\", \"#599861\")"
   ]
  },
  {
   "cell_type": "code",
   "execution_count": 4,
   "metadata": {
    "vscode": {
     "languageId": "r"
    }
   },
   "outputs": [
    {
     "data": {
      "text/html": [
       "<style>\n",
       ".list-inline {list-style: none; margin:0; padding: 0}\n",
       ".list-inline>li {display: inline-block}\n",
       ".list-inline>li:not(:last-child)::after {content: \"\\00b7\"; padding: 0 .5ex}\n",
       "</style>\n",
       "<ol class=list-inline><li>'orig.ident'</li><li>'nCount_RNA'</li><li>'nFeature_RNA'</li><li>'alias_id'</li><li>'Treatment'</li><li>'log10GenesPerUMI'</li><li>'percent_mito'</li><li>'nCount_SCT'</li><li>'nFeature_SCT'</li><li>'SCT_snn_res.0.1'</li><li>'SCT_snn_res.0.2'</li><li>'SCT_snn_res.0.3'</li><li>'SCT_snn_res.0.4'</li><li>'SCT_snn_res.0.5'</li><li>'SCT_snn_res.0.6'</li><li>'SCT_snn_res.0.7'</li><li>'SCT_snn_res.0.8'</li><li>'seurat_clusters'</li><li>'clustering_harmony'</li><li>'first_annotation'</li><li>'second_annotation'</li><li>'third_annotation'</li><li>'annotation'</li></ol>\n"
      ],
      "text/latex": [
       "\\begin{enumerate*}\n",
       "\\item 'orig.ident'\n",
       "\\item 'nCount\\_RNA'\n",
       "\\item 'nFeature\\_RNA'\n",
       "\\item 'alias\\_id'\n",
       "\\item 'Treatment'\n",
       "\\item 'log10GenesPerUMI'\n",
       "\\item 'percent\\_mito'\n",
       "\\item 'nCount\\_SCT'\n",
       "\\item 'nFeature\\_SCT'\n",
       "\\item 'SCT\\_snn\\_res.0.1'\n",
       "\\item 'SCT\\_snn\\_res.0.2'\n",
       "\\item 'SCT\\_snn\\_res.0.3'\n",
       "\\item 'SCT\\_snn\\_res.0.4'\n",
       "\\item 'SCT\\_snn\\_res.0.5'\n",
       "\\item 'SCT\\_snn\\_res.0.6'\n",
       "\\item 'SCT\\_snn\\_res.0.7'\n",
       "\\item 'SCT\\_snn\\_res.0.8'\n",
       "\\item 'seurat\\_clusters'\n",
       "\\item 'clustering\\_harmony'\n",
       "\\item 'first\\_annotation'\n",
       "\\item 'second\\_annotation'\n",
       "\\item 'third\\_annotation'\n",
       "\\item 'annotation'\n",
       "\\end{enumerate*}\n"
      ],
      "text/markdown": [
       "1. 'orig.ident'\n",
       "2. 'nCount_RNA'\n",
       "3. 'nFeature_RNA'\n",
       "4. 'alias_id'\n",
       "5. 'Treatment'\n",
       "6. 'log10GenesPerUMI'\n",
       "7. 'percent_mito'\n",
       "8. 'nCount_SCT'\n",
       "9. 'nFeature_SCT'\n",
       "10. 'SCT_snn_res.0.1'\n",
       "11. 'SCT_snn_res.0.2'\n",
       "12. 'SCT_snn_res.0.3'\n",
       "13. 'SCT_snn_res.0.4'\n",
       "14. 'SCT_snn_res.0.5'\n",
       "15. 'SCT_snn_res.0.6'\n",
       "16. 'SCT_snn_res.0.7'\n",
       "17. 'SCT_snn_res.0.8'\n",
       "18. 'seurat_clusters'\n",
       "19. 'clustering_harmony'\n",
       "20. 'first_annotation'\n",
       "21. 'second_annotation'\n",
       "22. 'third_annotation'\n",
       "23. 'annotation'\n",
       "\n",
       "\n"
      ],
      "text/plain": [
       " [1] \"orig.ident\"         \"nCount_RNA\"         \"nFeature_RNA\"      \n",
       " [4] \"alias_id\"           \"Treatment\"          \"log10GenesPerUMI\"  \n",
       " [7] \"percent_mito\"       \"nCount_SCT\"         \"nFeature_SCT\"      \n",
       "[10] \"SCT_snn_res.0.1\"    \"SCT_snn_res.0.2\"    \"SCT_snn_res.0.3\"   \n",
       "[13] \"SCT_snn_res.0.4\"    \"SCT_snn_res.0.5\"    \"SCT_snn_res.0.6\"   \n",
       "[16] \"SCT_snn_res.0.7\"    \"SCT_snn_res.0.8\"    \"seurat_clusters\"   \n",
       "[19] \"clustering_harmony\" \"first_annotation\"   \"second_annotation\" \n",
       "[22] \"third_annotation\"   \"annotation\"        "
      ]
     },
     "metadata": {},
     "output_type": "display_data"
    }
   ],
   "source": [
    "sc_obj@meta.data %>% colnames()\n",
    "Idents(sc_obj) <- \"annotation\"\n",
    "integrated_obj$Treatment <- integrated_obj$diagnosis %>% factor(levels= c(\"Healthy\", \"vehicle\", \"Sema\", \"Enalapril\")) "
   ]
  },
  {
   "cell_type": "markdown",
   "metadata": {
    "vscode": {
     "languageId": "r"
    }
   },
   "source": [
    "# SPATIAL "
   ]
  },
  {
   "cell_type": "code",
   "execution_count": 5,
   "metadata": {
    "vscode": {
     "languageId": "r"
    }
   },
   "outputs": [
    {
     "data": {
      "text/html": [
       "<style>\n",
       ".list-inline {list-style: none; margin:0; padding: 0}\n",
       ".list-inline>li {display: inline-block}\n",
       ".list-inline>li:not(:last-child)::after {content: \"\\00b7\"; padding: 0 .5ex}\n",
       "</style>\n",
       "<ol class=list-inline><li>'Adipocytes'</li><li>'CNT'</li><li>'DCT'</li><li>'EC'</li><li>'FIB'</li><li>'IC'</li><li>'IMM'</li><li>'PC'</li><li>'POD'</li><li>'PTS1'</li><li>'PTS2'</li><li>'PTS3'</li><li>'ThickL'</li><li>'ThinL'</li><li>'Urothelium'</li><li>'VSCM'</li></ol>\n"
      ],
      "text/latex": [
       "\\begin{enumerate*}\n",
       "\\item 'Adipocytes'\n",
       "\\item 'CNT'\n",
       "\\item 'DCT'\n",
       "\\item 'EC'\n",
       "\\item 'FIB'\n",
       "\\item 'IC'\n",
       "\\item 'IMM'\n",
       "\\item 'PC'\n",
       "\\item 'POD'\n",
       "\\item 'PTS1'\n",
       "\\item 'PTS2'\n",
       "\\item 'PTS3'\n",
       "\\item 'ThickL'\n",
       "\\item 'ThinL'\n",
       "\\item 'Urothelium'\n",
       "\\item 'VSCM'\n",
       "\\end{enumerate*}\n"
      ],
      "text/markdown": [
       "1. 'Adipocytes'\n",
       "2. 'CNT'\n",
       "3. 'DCT'\n",
       "4. 'EC'\n",
       "5. 'FIB'\n",
       "6. 'IC'\n",
       "7. 'IMM'\n",
       "8. 'PC'\n",
       "9. 'POD'\n",
       "10. 'PTS1'\n",
       "11. 'PTS2'\n",
       "12. 'PTS3'\n",
       "13. 'ThickL'\n",
       "14. 'ThinL'\n",
       "15. 'Urothelium'\n",
       "16. 'VSCM'\n",
       "\n",
       "\n"
      ],
      "text/plain": [
       " [1] \"Adipocytes\" \"CNT\"        \"DCT\"        \"EC\"         \"FIB\"       \n",
       " [6] \"IC\"         \"IMM\"        \"PC\"         \"POD\"        \"PTS1\"      \n",
       "[11] \"PTS2\"       \"PTS3\"       \"ThickL\"     \"ThinL\"      \"Urothelium\"\n",
       "[16] \"VSCM\"      "
      ]
     },
     "metadata": {},
     "output_type": "display_data"
    }
   ],
   "source": [
    "cell_types <- read.csv(paste0(project_dir, \"/processed/deconvolution/reference_signatures/reference_cell_type_signature.csv\"), row.names = 1) %>% \n",
    "colnames()\n",
    "cell_types"
   ]
  },
  {
   "cell_type": "code",
   "execution_count": null,
   "metadata": {
    "vscode": {
     "languageId": "r"
    }
   },
   "outputs": [],
   "source": [
    "#sample \n",
    "options(repr.plot.width=10, repr.plot.height=5)\n",
    "colour_genus <- integrated_obj$Region2 %>% unique()\n",
    "palette <- MyPalette[1:length(colour_genus)]\n",
    "names(palette) <- colour_genus\n",
    "\n",
    "p <- integrated_obj@meta.data %>%\n",
    "  dplyr::count(alias_id, Treatment, Region2) %>%\n",
    "  group_by(alias_id) %>%\n",
    "  mutate(fraction = n/sum(n)) %>%\n",
    "  ggplot(aes(alias_id, fraction, fill = Region2)) +\n",
    "  geom_col() +\n",
    "  scale_fill_manual(values = palette) +\n",
    "  cowplot::theme_cowplot() +\n",
    "  scale_x_discrete(guide = guide_axis(angle = 45)) +\n",
    "  labs(x = \"\", y = \"\", fill = \"Region\") +\n",
    "  facet_wrap(~ Treatment, scales = \"free_x\", nrow = 1)\n",
    "\n",
    "ggsave(\"./kidney_mouse_ntn/reports/plots/cell_type_composition/all/ST_region_sample_treatment.png\", p, width = 10, height = 5, bg = \"white\")"
   ]
  },
  {
   "cell_type": "code",
   "execution_count": null,
   "metadata": {
    "vscode": {
     "languageId": "r"
    }
   },
   "outputs": [],
   "source": [
    "#treatment \n",
    "options(repr.plot.width=10, repr.plot.height=5)\n",
    "colour_genus <- integrated_obj$Region2 %>% unique()\n",
    "palette <- MyPalette[1:length(colour_genus)]\n",
    "names(palette) <- colour_genus\n",
    "\n",
    "p <- integrated_obj@meta.data %>%\n",
    "  dplyr::count(Treatment, Region2) %>%\n",
    "  group_by(Treatment) %>%\n",
    "  mutate(fraction = n/sum(n)) %>%\n",
    "  ggplot(aes(Treatment, fraction, fill = Region2)) +\n",
    "  geom_col() +\n",
    "  scale_fill_manual(values = palette) +\n",
    "  cowplot::theme_cowplot() +\n",
    "  scale_x_discrete(guide = guide_axis(angle = 45)) +\n",
    "  labs(x = \"\", y = \"\", fill = \"Region\") +\n",
    "  facet_wrap(~ Treatment, scales = \"free_x\", nrow = 1) +\n",
    "  theme(axis.text.x=element_blank(), axis.ticks.x=element_blank(), axis.line=element_blank())\n",
    "\n",
    "ggsave(\".//reports/plots/cell_type_composition/all/ST_region_treatment.png\", p, width = 10, height = 5, bg = \"white\")"
   ]
  },
  {
   "cell_type": "code",
   "execution_count": null,
   "metadata": {
    "vscode": {
     "languageId": "r"
    }
   },
   "outputs": [
    {
     "name": "stderr",
     "output_type": "stream",
     "text": [
      "Warning message:\n",
      "“\u001b[1m\u001b[22mUsing an external vector in selections was deprecated in tidyselect 1.1.0.\n",
      "\u001b[36mℹ\u001b[39m Please use `all_of()` or `any_of()` instead.\n",
      "  # Was:\n",
      "  data %>% select(cell_types)\n",
      "\n",
      "  # Now:\n",
      "  data %>% select(all_of(cell_types))\n",
      "\n",
      "See <https://tidyselect.r-lib.org/reference/faq-external-vector.html>.”\n"
     ]
    },
    {
     "name": "stderr",
     "output_type": "stream",
     "text": [
      "\u001b[1m\u001b[22m`summarise()` has grouped output by 'alias_id', 'cell_type'. You can override using the `.groups` argument.\n"
     ]
    }
   ],
   "source": [
    "#treatment sample\n",
    "options(repr.plot.width=10, repr.plot.height=5)\n",
    "palette <- MyPalette[1:length(cell_types)]\n",
    "names(palette) <- cell_types\n",
    "\n",
    "p <- integrated_obj@meta.data %>% \n",
    "    select(c(alias_id,Treatment,cell_types)) %>%\n",
    "    gather(cell_type, count, -c(Treatment, alias_id)) %>%\n",
    "    group_by(alias_id, cell_type, Treatment) %>% \n",
    "    summarise(n = sum(count, na.rm = TRUE)) %>% \n",
    "    group_by(alias_id) %>% \n",
    "    mutate(fraction = n/sum(n)) %>%\n",
    "    ggplot(aes(alias_id, fraction, fill = cell_type)) +\n",
    "    geom_col() +\n",
    "    scale_fill_manual(values = palette) +\n",
    "    cowplot::theme_cowplot() +\n",
    "    scale_x_discrete(guide = guide_axis(angle = 45)) +\n",
    "    labs(x = \"\", y = \"\", fill = \"Region\") +\n",
    "    facet_wrap(~ Treatment, scales = \"free_x\", nrow = 1)\n",
    "\n",
    "ggsave(\".//reports/plots/cell_type_composition/all/ST_cell_type_sample_treatment.png\", p, width = 10, height = 5, bg = \"white\")"
   ]
  },
  {
   "cell_type": "code",
   "execution_count": null,
   "metadata": {
    "vscode": {
     "languageId": "r"
    }
   },
   "outputs": [
    {
     "name": "stderr",
     "output_type": "stream",
     "text": [
      "\u001b[1m\u001b[22m`summarise()` has grouped output by 'Treatment'. You can override using the `.groups` argument.\n"
     ]
    }
   ],
   "source": [
    "#treatment cell types\n",
    "options(repr.plot.width=10, repr.plot.height=5)\n",
    "palette <- MyPalette[1:length(cell_types)]\n",
    "names(palette) <- cell_types\n",
    "\n",
    "p <- integrated_obj@meta.data %>% \n",
    "    select(c(Treatment,cell_types)) %>%\n",
    "    gather(cell_type, count, -Treatment) %>% \n",
    "    group_by(Treatment, cell_type) %>% \n",
    "    summarise(n = sum(count, na.rm = TRUE)) %>% \n",
    "    group_by(Treatment) %>% \n",
    "    mutate(fraction = n/sum(n)) %>%\n",
    "    ggplot(aes(Treatment, fraction, fill = cell_type)) +\n",
    "    geom_col() +\n",
    "    scale_fill_manual(values = palette) +\n",
    "    cowplot::theme_cowplot() +\n",
    "    scale_x_discrete(guide = guide_axis(angle = 45)) +\n",
    "    labs(x = \"\", y = \"\", fill = \"Region\") +\n",
    "    facet_wrap(~ Treatment, scales = \"free_x\", nrow = 1) +\n",
    "    theme(axis.text.x=element_blank(), axis.ticks.x=element_blank(), axis.line=element_blank())\n",
    "\n",
    "ggsave(\".//reports/plots/cell_type_composition/all/ST_region_treatment.png\", p, width = 10, height = 5, bg = \"white\")"
   ]
  },
  {
   "cell_type": "markdown",
   "metadata": {},
   "source": [
    "# Single cell"
   ]
  },
  {
   "cell_type": "code",
   "execution_count": null,
   "metadata": {
    "vscode": {
     "languageId": "r"
    }
   },
   "outputs": [],
   "source": [
    "#SINGLE CELL\n",
    "options(repr.plot.width=10, repr.plot.height=5)\n",
    "\n",
    "palette <- MyPalette[1:length(cell_types)]\n",
    "names(palette) <- cell_types\n",
    "\n",
    "p <- sc_obj@meta.data %>%\n",
    "  dplyr::count(alias_id, Treatment, annotation) %>%\n",
    "  group_by(alias_id) %>%\n",
    "  mutate(fraction = n/sum(n),\n",
    "         alias_id = paste0(alias_id)) %>%\n",
    "  ggplot(aes(alias_id, fraction, fill = annotation)) +\n",
    "  geom_col() +\n",
    "  scale_fill_manual(values = palette) +\n",
    "  cowplot::theme_cowplot() +\n",
    "  scale_x_discrete(guide = guide_axis(angle = 45)) +\n",
    "  labs(x = \"\", y = \"\", fill = \"Cell type\") +\n",
    "  facet_wrap(~ Treatment, scales = \"free_x\", nrow = 1)\n",
    "\n",
    "ggsave(\".//reports/plots/cell_type_composition/all/sc_cell_type_sample_treatment.png\", p, width = 10, height = 5, bg = \"white\")"
   ]
  },
  {
   "cell_type": "code",
   "execution_count": null,
   "metadata": {
    "vscode": {
     "languageId": "r"
    }
   },
   "outputs": [],
   "source": [
    "#SINGLE CELL\n",
    "options(repr.plot.width=10, repr.plot.height=5)\n",
    "\n",
    "colour_genus <- sc_obj$annotation %>% unique()\n",
    "palette <- MyPalette[1:length(colour_genus)]\n",
    "names(palette) <- colour_genus\n",
    "\n",
    "p <- sc_obj@meta.data %>%\n",
    "  dplyr::count(Treatment, annotation) %>%\n",
    "  group_by(Treatment) %>%\n",
    "  mutate(fraction = n/sum(n),) %>%\n",
    "  ggplot(aes(Treatment, fraction, fill = annotation)) +\n",
    "  geom_col() +\n",
    "  scale_fill_manual(values = palette) +\n",
    "  cowplot::theme_cowplot() +\n",
    "  scale_x_discrete(guide = guide_axis(angle = 45)) +\n",
    "  labs(x = \"\", y = \"\", fill = \"Cell type\") +\n",
    "  facet_wrap(~ Treatment, scales = \"free_x\", nrow = 1) +\n",
    "  theme(axis.text.x=element_blank(), axis.ticks.x=element_blank(), axis.line=element_blank())\n",
    "\n",
    "p <- ggsave(\".//reports/plots/cell_type_composition/all/sc_cell_type_treatment.png\", p, width = 10, height = 5, bg = \"white\")"
   ]
  }
 ],
 "metadata": {
  "kernelspec": {
   "display_name": "R4.3_visium_notebooks",
   "language": "R",
   "name": "r4.3_visium_notebooks"
  },
  "language_info": {
   "codemirror_mode": "r",
   "file_extension": ".r",
   "mimetype": "text/x-r-source",
   "name": "R",
   "pygments_lexer": "r",
   "version": "4.3.2"
  }
 },
 "nbformat": 4,
 "nbformat_minor": 2
}
